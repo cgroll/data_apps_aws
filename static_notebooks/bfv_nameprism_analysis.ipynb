{
 "cells": [
  {
   "cell_type": "code",
   "execution_count": null,
   "metadata": {},
   "outputs": [],
   "source": [
    "import matplotlib.pyplot as plt\n",
    "import pandas as pd\n",
    "import seaborn as sns\n",
    "\n",
    "from data_apps_aws.sql import get_db_engine, get_db_data\n",
    "from data_apps_aws.utils import make_outside_legend\n",
    "from data_apps_aws.sql import *"
   ]
  },
  {
   "cell_type": "code",
   "execution_count": null,
   "metadata": {},
   "outputs": [],
   "source": [
    "plt.rcParams['figure.figsize'] = 14, 6\n",
    "sns.set()"
   ]
  },
  {
   "cell_type": "markdown",
   "metadata": {},
   "source": [
    "### Get player data"
   ]
  },
  {
   "cell_type": "code",
   "execution_count": null,
   "metadata": {},
   "outputs": [],
   "source": [
    "db_con = get_db_engine('bfv_data')"
   ]
  },
  {
   "cell_type": "code",
   "execution_count": null,
   "metadata": {},
   "outputs": [],
   "source": [
    "query = \"\"\"\n",
    "SELECT *\n",
    "FROM nameprism_player_info\n",
    "\"\"\""
   ]
  },
  {
   "cell_type": "code",
   "execution_count": null,
   "metadata": {},
   "outputs": [],
   "source": [
    "all_nationality_info_df = get_db_data(query, db_con)\n",
    "all_nationality_info_df.head(3)"
   ]
  },
  {
   "cell_type": "code",
   "execution_count": null,
   "metadata": {},
   "outputs": [],
   "source": [
    "query = \"\"\"\n",
    "SELECT *\n",
    "FROM match_participants\n",
    "\"\"\""
   ]
  },
  {
   "cell_type": "code",
   "execution_count": null,
   "metadata": {},
   "outputs": [],
   "source": [
    "all_match_participants = get_db_data(query, db_con)\n",
    "all_match_participants = all_match_participants.loc[:, ['player_name', 'team', 'type', 'team_id', 'person_id']]"
   ]
  },
  {
   "cell_type": "code",
   "execution_count": null,
   "metadata": {},
   "outputs": [],
   "source": [
    "all_match_participants.head(3)"
   ]
  },
  {
   "cell_type": "markdown",
   "metadata": {},
   "source": [
    "## Classifier"
   ]
  },
  {
   "cell_type": "code",
   "execution_count": null,
   "metadata": {},
   "outputs": [],
   "source": [
    "player_nationalities = all_nationality_info_df.sort_values(['player_name', 'prob']).groupby('player_name').tail(1)\n",
    "player_nationalities.head(3)"
   ]
  },
  {
   "cell_type": "code",
   "execution_count": null,
   "metadata": {},
   "outputs": [],
   "source": [
    "player_german_or_not = all_nationality_info_df\n",
    "player_german_or_not = player_german_or_not.query('nationality == \"European,German\"').copy()\n",
    "\n",
    "xx_inds_german_players = player_german_or_not['prob'] > 0.5\n",
    "player_german_or_not.loc[xx_inds_german_players, 'nationality'] = 'german'\n",
    "player_german_or_not.loc[~xx_inds_german_players, 'nationality'] = 'foreign'\n",
    "player_german_or_not.rename({'prob': 'prob_german'}, axis=1, inplace=True)\n",
    "player_german_or_not.head(4)"
   ]
  },
  {
   "cell_type": "markdown",
   "metadata": {},
   "source": [
    "Investigate individual players"
   ]
  },
  {
   "cell_type": "code",
   "execution_count": null,
   "metadata": {},
   "outputs": [],
   "source": [
    "this_player_name = 'Ümüt Tursun'\n",
    "all_nationality_info_df.query('player_name == @this_player_name').sort_values('prob', ascending=False).head(3)"
   ]
  },
  {
   "cell_type": "code",
   "execution_count": null,
   "metadata": {},
   "outputs": [],
   "source": [
    "players_german_or_foreign = all_match_participants.drop_duplicates(subset=['team_id', 'person_id']).merge(player_german_or_not)"
   ]
  },
  {
   "cell_type": "code",
   "execution_count": null,
   "metadata": {},
   "outputs": [],
   "source": [
    "players_german_or_foreign"
   ]
  },
  {
   "cell_type": "code",
   "execution_count": null,
   "metadata": {},
   "outputs": [],
   "source": [
    "players_german_or_foreign['person_id'].nunique()"
   ]
  },
  {
   "cell_type": "code",
   "execution_count": null,
   "metadata": {},
   "outputs": [],
   "source": [
    "team_german_ratio = players_german_or_foreign.groupby(['team_id', 'team', 'nationality'])['person_id'].count().to_frame()\n",
    "team_german_ratio = team_german_ratio.reset_index().pivot_table(index=['team_id', 'team'], columns='nationality', values='person_id').fillna(0)\n",
    "team_german_ratio['n_all_persons'] = team_german_ratio.sum(axis=1)\n",
    "team_german_ratio['german_ratio'] = team_german_ratio['german'] / team_german_ratio['n_all_persons']\n",
    "team_german_ratio = team_german_ratio.sort_values('german_ratio')\n",
    "team_german_ratio.head(3)"
   ]
  },
  {
   "cell_type": "code",
   "execution_count": null,
   "metadata": {},
   "outputs": [],
   "source": [
    "team_german_ratio['german_ratio'].hist()\n",
    "plt.xlabel('Ratio of German players')\n",
    "plt.ylabel('Number of teams')\n",
    "plt.show()"
   ]
  },
  {
   "cell_type": "code",
   "execution_count": null,
   "metadata": {},
   "outputs": [],
   "source": [
    "team_german_ratio = players_german_or_foreign.groupby(['team_id', 'team'])['prob_german'].mean().to_frame()\n",
    "team_german_ratio.rename({'prob_german': 'german_ratio'}, axis=1, inplace=True)\n",
    "team_german_ratio.head(2)"
   ]
  },
  {
   "cell_type": "code",
   "execution_count": null,
   "metadata": {},
   "outputs": [],
   "source": [
    "team_german_ratio['german_ratio'].hist()\n",
    "plt.xlabel('Ratio of German players')\n",
    "plt.ylabel('Number of teams')\n",
    "plt.show()"
   ]
  },
  {
   "cell_type": "markdown",
   "metadata": {},
   "source": [
    "## Championship / team lookup"
   ]
  },
  {
   "cell_type": "markdown",
   "metadata": {},
   "source": [
    "Create a look-up for match-ids and their respective championship:"
   ]
  },
  {
   "cell_type": "code",
   "execution_count": null,
   "metadata": {},
   "outputs": [],
   "source": [
    "query = \"\"\"\n",
    "SELECT *\n",
    "FROM match_day_links\n",
    "\"\"\"\n",
    "\n",
    "match_day_links_raw = get_db_data(query, db_con)\n",
    "\n",
    "# remove entries without link\n",
    "championship_match_affil = match_day_links_raw.loc[~match_day_links_raw['link'].isna()].copy()"
   ]
  },
  {
   "cell_type": "code",
   "execution_count": null,
   "metadata": {},
   "outputs": [],
   "source": [
    "all_match_ids = []\n",
    "for this_link in championship_match_affil['link'].values:\n",
    "    all_match_ids.append(this_link.split('https://www.bfv.de/spiele/')[1])\n",
    "championship_match_affil['match_id'] = all_match_ids\n",
    "championship_match_affil.tail(3)"
   ]
  },
  {
   "cell_type": "code",
   "execution_count": null,
   "metadata": {},
   "outputs": [],
   "source": [
    "query = \"\"\"\n",
    "SELECT match_id, team_id, team\n",
    "FROM match_participants\n",
    "\"\"\""
   ]
  },
  {
   "cell_type": "code",
   "execution_count": null,
   "metadata": {},
   "outputs": [],
   "source": [
    "all_match_teams = get_db_data(query, db_con)\n",
    "all_match_teams = all_match_teams.drop_duplicates()"
   ]
  },
  {
   "cell_type": "code",
   "execution_count": null,
   "metadata": {},
   "outputs": [],
   "source": [
    "championship_team_affil = championship_match_affil.loc[:, ['championship_id', 'match_id']].merge(all_match_teams)\n",
    "championship_team_affil = championship_team_affil.drop(columns='match_id')\n",
    "championship_team_affil.head(3)"
   ]
  },
  {
   "cell_type": "markdown",
   "metadata": {},
   "source": [
    "## Migration vs fairness"
   ]
  },
  {
   "cell_type": "code",
   "execution_count": null,
   "metadata": {},
   "outputs": [],
   "source": [
    "query = \"\"\"\n",
    "SELECT *\n",
    "FROM fairness_tables\n",
    "\"\"\"\n",
    "\n",
    "fairness_raw = get_db_data(query, db_con)"
   ]
  },
  {
   "cell_type": "code",
   "execution_count": null,
   "metadata": {},
   "outputs": [],
   "source": [
    "fairness_info = fairness_raw.loc[:, ['championship_id', 'quote', 'team']].merge(championship_team_affil).drop_duplicates()"
   ]
  },
  {
   "cell_type": "code",
   "execution_count": null,
   "metadata": {},
   "outputs": [],
   "source": [
    "fairness_info.head(3)"
   ]
  },
  {
   "cell_type": "code",
   "execution_count": null,
   "metadata": {},
   "outputs": [],
   "source": [
    "team_german_ratio.head(3)"
   ]
  },
  {
   "cell_type": "code",
   "execution_count": null,
   "metadata": {},
   "outputs": [],
   "source": [
    "club_fairness_nations = fairness_info.merge(team_german_ratio['german_ratio'].reset_index())"
   ]
  },
  {
   "cell_type": "code",
   "execution_count": null,
   "metadata": {},
   "outputs": [],
   "source": [
    "plt.scatter(club_fairness_nations['german_ratio'], club_fairness_nations['quote'])\n",
    "plt.xlabel('Ratio of German players')\n",
    "plt.ylabel('Fairness score (lower means more fair)')\n",
    "plt.show()"
   ]
  },
  {
   "cell_type": "code",
   "execution_count": null,
   "metadata": {},
   "outputs": [],
   "source": [
    "import statsmodels.api as sm"
   ]
  },
  {
   "cell_type": "code",
   "execution_count": null,
   "metadata": {},
   "outputs": [],
   "source": [
    "X = club_fairness_nations['german_ratio'].values\n",
    "X = sm.add_constant(X)\n",
    "\n",
    "Y = club_fairness_nations['quote'].values"
   ]
  },
  {
   "cell_type": "code",
   "execution_count": null,
   "metadata": {},
   "outputs": [],
   "source": [
    "model = sm.OLS(Y,X)\n",
    "results = model.fit()\n",
    "results.params"
   ]
  },
  {
   "cell_type": "code",
   "execution_count": null,
   "metadata": {},
   "outputs": [],
   "source": [
    "print(results.t_test([1, 0]))"
   ]
  },
  {
   "cell_type": "code",
   "execution_count": null,
   "metadata": {},
   "outputs": [],
   "source": [
    "y_vals = results.predict()"
   ]
  },
  {
   "cell_type": "code",
   "execution_count": null,
   "metadata": {},
   "outputs": [],
   "source": [
    "plt.scatter(club_fairness_nations['german_ratio'], club_fairness_nations['quote'])\n",
    "plt.plot(club_fairness_nations['german_ratio'].values, y_vals, c='red')\n",
    "plt.xlabel('Ratio of German players')\n",
    "plt.ylabel('Fairness score (lower means more fair)')\n",
    "plt.show()"
   ]
  },
  {
   "cell_type": "markdown",
   "metadata": {},
   "source": [
    "## Quick and dirty analysis"
   ]
  },
  {
   "cell_type": "code",
   "execution_count": null,
   "metadata": {},
   "outputs": [],
   "source": [
    "max_inds = all_player_info_df.groupby('player_name')['prob'].idxmax()\n",
    "best_single_guesses = all_player_info_df.loc[max_inds].sort_values('prob')"
   ]
  },
  {
   "cell_type": "code",
   "execution_count": null,
   "metadata": {},
   "outputs": [],
   "source": [
    "best_single_guesses.groupby('nationality')['player_name'].count().sort_values()"
   ]
  },
  {
   "cell_type": "code",
   "execution_count": null,
   "metadata": {},
   "outputs": [],
   "source": [
    "14737 / best_single_guesses.shape[0]"
   ]
  },
  {
   "cell_type": "code",
   "execution_count": null,
   "metadata": {},
   "outputs": [],
   "source": [
    "highest_three_likelihoods = all_player_info_df.sort_values(['player_name', 'prob'], ascending=False).groupby('player_name').head(3)\n",
    "highest_three_likelihoods.groupby('player_name')['prob'].sum().sort_values().head(20)"
   ]
  },
  {
   "cell_type": "code",
   "execution_count": null,
   "metadata": {},
   "outputs": [],
   "source": []
  }
 ],
 "metadata": {
  "kernelspec": {
   "display_name": "Python 3",
   "language": "python",
   "name": "python3"
  },
  "language_info": {
   "codemirror_mode": {
    "name": "ipython",
    "version": 3
   },
   "file_extension": ".py",
   "mimetype": "text/x-python",
   "name": "python",
   "nbconvert_exporter": "python",
   "pygments_lexer": "ipython3",
   "version": "3.7.7"
  }
 },
 "nbformat": 4,
 "nbformat_minor": 4
}
