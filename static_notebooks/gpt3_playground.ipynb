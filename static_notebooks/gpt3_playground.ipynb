{
 "cells": [
  {
   "cell_type": "code",
   "execution_count": null,
   "id": "9c809974-387e-463c-a49f-3b82df99c0ec",
   "metadata": {},
   "outputs": [],
   "source": [
    "import matplotlib.pyplot as plt\n",
    "import pandas as pd\n",
    "import seaborn as sns\n",
    "from string import Template\n",
    "\n",
    "import os\n",
    "import openai\n",
    "\n",
    "from data_apps_aws.password_manager import get_api_token\n",
    "from data_apps_aws.utils import make_outside_legend"
   ]
  },
  {
   "cell_type": "code",
   "execution_count": null,
   "id": "1c7b1c66-1098-4409-8698-2117b8989450",
   "metadata": {},
   "outputs": [],
   "source": [
    "plt.rcParams['figure.figsize'] = 14, 6\n",
    "sns.set()"
   ]
  },
  {
   "cell_type": "code",
   "execution_count": null,
   "id": "d2ff88f4-8950-4883-a8e7-9a35989a3153",
   "metadata": {},
   "outputs": [],
   "source": [
    "openai.api_key = get_api_token('openai')"
   ]
  },
  {
   "cell_type": "code",
   "execution_count": null,
   "id": "d0e7097f-a49d-46c6-89cb-92b7fb9f6005",
   "metadata": {},
   "outputs": [],
   "source": [
    "# !pip install openai"
   ]
  },
  {
   "cell_type": "code",
   "execution_count": null,
   "id": "ce42dd15-94f6-4070-900d-a1a80c3c6b8e",
   "metadata": {},
   "outputs": [],
   "source": [
    "def gpt_request(prompt_text, stop_seq=None, temperature=0.7, top_p=1, frequency_penalty=0, presence_penalty=0, engine='davinci', response_length=64):\n",
    "\n",
    "    if stop_seq is None:\n",
    "        response_obj = openai.Completion.create(\n",
    "            prompt=prompt_text,\n",
    "            engine=engine,\n",
    "            max_tokens=response_length,\n",
    "            temperature=temperature,\n",
    "            top_p=top_p,\n",
    "            frequency_penalty=frequency_penalty,\n",
    "            presence_penalty=presence_penalty,\n",
    "        )\n",
    "    else:\n",
    "        response_obj = openai.Completion.create(\n",
    "            prompt=prompt_text,\n",
    "            engine=engine,\n",
    "            max_tokens=response_length,\n",
    "            temperature=temperature,\n",
    "            top_p=top_p,\n",
    "            frequency_penalty=frequency_penalty,\n",
    "            presence_penalty=presence_penalty,\n",
    "            stop=stop_seq,\n",
    "        )\n",
    "\n",
    "    response_text = response_obj.choices[0]['text']\n",
    "\n",
    "    return response_text"
   ]
  },
  {
   "cell_type": "code",
   "execution_count": null,
   "id": "c53d513e-831f-472f-86ae-4791f7ca7b45",
   "metadata": {},
   "outputs": [],
   "source": [
    "company_info_prompt_template = Template(\"\"\"Company info for Amazon: It focuses on e-commerce, cloud computing, digital streaming, and artificial intelligence.\n",
    "Company info for Apple: It makes software, mobile apps, personal computers, and home appliances.\n",
    "Company info for Microsoft: It makes computer software, consumer electronics, personal computers, and online services.\n",
    "Company info for Tesla: It makes electric cars, solar panels, and battery products.\n",
    "Company info for $company_name:\"\"\")"
   ]
  },
  {
   "cell_type": "code",
   "execution_count": null,
   "id": "3cc0457f-201e-4fa1-b909-ce388c4c8993",
   "metadata": {},
   "outputs": [],
   "source": [
    "q_and_a_prompt_template = Template(\"\"\"I am a highly intelligent question answering bot. If you ask me a question that is rooted in truth, I will give you the answer. If you ask me a question that is nonsense, trickery, or has no clear answer, I will respond with \"Unknown\".\n",
    "\n",
    "Q: What is human life expectancy in the United States?\n",
    "A: Human life expectancy in the United States is 78 years.\n",
    "\n",
    "Q: Who was president of the United States in 1955?\n",
    "A: Dwight D. Eisenhower was president of the United States in 1955.\n",
    "\n",
    "Q: Which party did he belong to?\n",
    "A: He belonged to the Republican Party.\n",
    "\n",
    "Q: What is the square root of banana?\n",
    "A: Unknown\n",
    "\n",
    "Q: How does a telescope work?\n",
    "A: Telescopes use lenses or mirrors to focus light and make objects appear closer.\n",
    "\n",
    "Q: Where were the 1992 Olympics held?\n",
    "A: The 1992 Olympics were held in Barcelona, Spain.\n",
    "\n",
    "Q: How many squigs are in a bonk?\n",
    "A: Unknown\n",
    "\n",
    "Q: $question_text\n",
    "A:\"\"\")"
   ]
  },
  {
   "cell_type": "code",
   "execution_count": null,
   "id": "395dbd52-0a1d-4374-8ebc-7367cabd1956",
   "metadata": {},
   "outputs": [],
   "source": [
    "def get_company_info(this_company):\n",
    "\n",
    "    company_info_prompt = company_info_prompt_template.substitute(company_name=this_company)\n",
    "    answer = gpt_request(company_info_prompt, temperature=0, top_p=0.19, stop_seq=['Company info for'])\n",
    "    \n",
    "    return answer"
   ]
  },
  {
   "cell_type": "code",
   "execution_count": null,
   "id": "8c43314e-aff4-4c88-85e0-5acc1a4acf5d",
   "metadata": {},
   "outputs": [],
   "source": [
    "def get_question_answer(question_text):\n",
    "    \n",
    "    q_and_a_prompt = q_and_a_prompt_template.substitute(question_text=question_text)\n",
    "    answer = gpt_request(q_and_a_prompt, temperature=0, top_p=1, response_length=100, stop_seq=['\\n'])\n",
    "    \n",
    "    return answer"
   ]
  },
  {
   "cell_type": "code",
   "execution_count": null,
   "id": "9cce1edc-5b02-494a-bf06-a2bed6219cc2",
   "metadata": {},
   "outputs": [],
   "source": [
    "get_question_answer('What is the capital of Uganda?')"
   ]
  },
  {
   "cell_type": "code",
   "execution_count": null,
   "id": "39c86834-1b00-4774-9118-9c06fb551fb2",
   "metadata": {},
   "outputs": [],
   "source": [
    "get_question_answer('What is the most successful movie ever?')"
   ]
  },
  {
   "cell_type": "code",
   "execution_count": null,
   "id": "03462c89-4882-43de-aca3-7ee995c7a87f",
   "metadata": {},
   "outputs": [],
   "source": [
    "get_question_answer('What is the highest mountain on the world?')"
   ]
  },
  {
   "cell_type": "code",
   "execution_count": null,
   "id": "bb60e124-45ec-4b4c-ae85-1392820f7373",
   "metadata": {},
   "outputs": [],
   "source": [
    "get_question_answer('What is a volcano?')"
   ]
  },
  {
   "cell_type": "code",
   "execution_count": null,
   "id": "cea02a98-7912-426b-9e66-39b89a35a189",
   "metadata": {},
   "outputs": [],
   "source": [
    "get_question_answer('When was Rome founded?')"
   ]
  },
  {
   "cell_type": "code",
   "execution_count": null,
   "id": "7cc4aa48-dfcd-48df-b2a5-c8dae0dca23c",
   "metadata": {},
   "outputs": [],
   "source": [
    "get_question_answer('What is Bitcoin?')"
   ]
  },
  {
   "cell_type": "code",
   "execution_count": null,
   "id": "367e24d5-008e-49af-a541-2e32c8ee9e06",
   "metadata": {},
   "outputs": [],
   "source": [
    "get_question_answer('Explain how Bitcoin works?')"
   ]
  },
  {
   "cell_type": "code",
   "execution_count": null,
   "id": "4f0b9211-1691-49d6-8dc8-0e8b00dcd865",
   "metadata": {},
   "outputs": [],
   "source": [
    "get_question_answer('What is a hangover?')"
   ]
  },
  {
   "cell_type": "code",
   "execution_count": null,
   "id": "8aeddbce-c73e-4bfb-bc28-3f4dbd12b251",
   "metadata": {},
   "outputs": [],
   "source": [
    "get_question_answer('What is the definition of the word beautiful?')"
   ]
  },
  {
   "cell_type": "code",
   "execution_count": null,
   "id": "9e44f5ff-c264-496f-93a5-c1d9c35e88c7",
   "metadata": {},
   "outputs": [],
   "source": [
    "get_question_answer('How many people did during World War II?')"
   ]
  },
  {
   "cell_type": "code",
   "execution_count": null,
   "id": "c109f435-ec00-4ccd-8342-0d12d61619bd",
   "metadata": {},
   "outputs": [],
   "source": [
    "get_question_answer('Who is the best football player ever?')"
   ]
  },
  {
   "cell_type": "code",
   "execution_count": null,
   "id": "7e8172fe-e7c6-46af-9e3e-d4abd1d4dbdc",
   "metadata": {},
   "outputs": [],
   "source": [
    "get_question_answer('Who is the best soccer player ever?')"
   ]
  },
  {
   "cell_type": "code",
   "execution_count": null,
   "id": "6cb6a07c-407a-47e4-a577-87afb95943ed",
   "metadata": {},
   "outputs": [],
   "source": [
    "get_question_answer('Can you find me a recipe for New York Cheesecake?')"
   ]
  },
  {
   "cell_type": "code",
   "execution_count": null,
   "id": "d78ba8c8-0adc-426d-acaa-7338ce2647c3",
   "metadata": {},
   "outputs": [],
   "source": [
    "get_question_answer('What is the recipe of New York Cheesecake?')"
   ]
  },
  {
   "cell_type": "code",
   "execution_count": null,
   "id": "a71849b7-2310-4632-a322-9a12361560ca",
   "metadata": {},
   "outputs": [],
   "source": [
    "get_question_answer('On which side do cars drive in Thailand?')"
   ]
  },
  {
   "cell_type": "code",
   "execution_count": null,
   "id": "20a9d539-0905-41ee-bda7-8ec56cca8c46",
   "metadata": {},
   "outputs": [],
   "source": [
    "company_list = ['SAP', 'Scalable Capital', 'Kaufhof', 'Altana', 'Schering', 'Vitesco', 'Deutsche Bahn', 'HelloFresh', 'Porsche']"
   ]
  },
  {
   "cell_type": "code",
   "execution_count": null,
   "id": "f26de6e9-8620-4a7c-9020-d36f64699756",
   "metadata": {},
   "outputs": [],
   "source": [
    "for this_company in company_list[0:1]:\n",
    "    \n",
    "    answer = get_company_info(this_company)\n",
    "    print(f'{this_company}: {answer}')"
   ]
  },
  {
   "cell_type": "markdown",
   "id": "3da37fd0-01a6-400b-a22b-cf6a1f13c609",
   "metadata": {},
   "source": [
    "### FAQ Classifications"
   ]
  },
  {
   "cell_type": "code",
   "execution_count": null,
   "id": "40465597-c570-4988-b7ce-0d63f6109076",
   "metadata": {},
   "outputs": [],
   "source": [
    "faqs_raw = pd.read_csv('assets/scalable_capital_FAQs_ENG.csv')"
   ]
  },
  {
   "cell_type": "code",
   "execution_count": null,
   "id": "c21a1416-2aca-4514-b8be-c613340f2b35",
   "metadata": {},
   "outputs": [],
   "source": [
    "faqs_raw"
   ]
  },
  {
   "cell_type": "code",
   "execution_count": null,
   "id": "1896a2a1-6416-4166-881a-1e008d2518c5",
   "metadata": {},
   "outputs": [],
   "source": [
    "faqs_raw['metadata'] = faqs_raw['Category'] + ' ' + faqs_raw['Topic']\n",
    "faqs_raw['text'] = faqs_raw['FAQ'] + ' ' + faqs_raw['Answer']"
   ]
  },
  {
   "cell_type": "markdown",
   "id": "7375cbf0-f30b-49eb-85e9-15b369d8ad84",
   "metadata": {},
   "source": [
    "Write to disk"
   ]
  },
  {
   "cell_type": "code",
   "execution_count": null,
   "id": "fefa1b05-b5f4-4778-9eb5-a73901d8c88b",
   "metadata": {},
   "outputs": [],
   "source": [
    "df_to_json = faqs_raw.loc[:, ['text', 'metadata']]\n",
    "data = df_to_json.to_json(orient='records', lines=True)\n",
    "data = data[:-1] # remove \\n at end of string"
   ]
  },
  {
   "cell_type": "code",
   "execution_count": null,
   "id": "05f43f9d-a9b3-4577-9ed4-7507b06b86b1",
   "metadata": {},
   "outputs": [],
   "source": [
    "with open('assets/scalable_capital_FAQs_ENG.jsonl', 'w') as f:\n",
    "    print(data, file=f)"
   ]
  },
  {
   "cell_type": "code",
   "execution_count": null,
   "id": "677bd64d-0432-4baf-919f-8ccbb141ead7",
   "metadata": {},
   "outputs": [],
   "source": [
    "import jsonlines\n",
    "\n",
    "def check_jsonl_file(fname):\n",
    "    \n",
    "    with jsonlines.open(fname) as reader:\n",
    "        for obj in reader:\n",
    "            obj['metadata']"
   ]
  },
  {
   "cell_type": "code",
   "execution_count": null,
   "id": "c4194081-2516-48f3-8f8c-ff50bda569b1",
   "metadata": {},
   "outputs": [],
   "source": [
    "def search_response_to_df(response):\n",
    "    \n",
    "    all_entry_list = []\n",
    "    \n",
    "    for this_entry in response.data:\n",
    "        \n",
    "        all_entry_list.append(pd.DataFrame.from_dict({0: dict(this_entry)}, orient='index'))\n",
    "        \n",
    "    out_df = pd.concat(all_entry_list, axis=0).loc[:, ['score', 'metadata', 'text']].sort_values('score', ascending=False).reset_index(drop=True)\n",
    "        \n",
    "    return out_df"
   ]
  },
  {
   "cell_type": "code",
   "execution_count": null,
   "id": "0c41c540-d7f7-4690-801c-d4deeb38ee87",
   "metadata": {},
   "outputs": [],
   "source": [
    "check_jsonl_file('assets/scalable_capital_FAQs_ENG.jsonl')"
   ]
  },
  {
   "cell_type": "code",
   "execution_count": null,
   "id": "e5372710-58e8-4ba7-a9d2-b81c9640f7a1",
   "metadata": {},
   "outputs": [],
   "source": [
    "file_upload_response = openai.File.create(file=open(\"assets/scalable_capital_FAQs_ENG_long.jsonl\"), purpose=\"search\")\n",
    "file_id = file_upload_response.id"
   ]
  },
  {
   "cell_type": "code",
   "execution_count": null,
   "id": "db5e155f-68b9-44b8-9c6e-e3c5f3b54a5c",
   "metadata": {},
   "outputs": [],
   "source": [
    "this_query = 'How can I set up 2FA?'\n",
    "this_query = 'Can I transfer assets to Scalable?'\n",
    "this_query = 'I did not yet receive my premium?'\n",
    "this_query = 'How can I set up 2FA?'\n",
    "this_query = 'Do I need to use multi-factor authentication'\n",
    "this_query = 'What is a ETF'\n",
    "this_query = 'how much does it cost'\n",
    "this_query = 'how can I see the status of my tax allowance'\n",
    "this_query = 'I want to open an account for my children?'"
   ]
  },
  {
   "cell_type": "code",
   "execution_count": null,
   "id": "fbece064-801d-4c96-9c21-10628fbc1a26",
   "metadata": {},
   "outputs": [],
   "source": [
    "pd.set_option('display.max_colwidth', 4000)"
   ]
  },
  {
   "cell_type": "code",
   "execution_count": null,
   "id": "759dee9e-f12f-4772-9ecf-5fcfd5fed74f",
   "metadata": {},
   "outputs": [],
   "source": [
    "%%time\n",
    "response = openai.Engine(\"ada\").search(\n",
    "    search_model=\"ada\", \n",
    "    query=this_query, \n",
    "    max_rerank=10,\n",
    "    file=file_id,\n",
    "    return_metadata=True\n",
    ")\n",
    "\n",
    "out_df = search_response_to_df(response)\n",
    "out_df"
   ]
  }
 ],
 "metadata": {
  "kernelspec": {
   "display_name": "Python 3 (ipykernel)",
   "language": "python",
   "name": "python3"
  },
  "language_info": {
   "codemirror_mode": {
    "name": "ipython",
    "version": 3
   },
   "file_extension": ".py",
   "mimetype": "text/x-python",
   "name": "python",
   "nbconvert_exporter": "python",
   "pygments_lexer": "ipython3",
   "version": "3.8.10"
  }
 },
 "nbformat": 4,
 "nbformat_minor": 5
}
