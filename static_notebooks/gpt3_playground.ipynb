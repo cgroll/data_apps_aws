{
 "cells": [
  {
   "cell_type": "code",
   "execution_count": null,
   "id": "9c809974-387e-463c-a49f-3b82df99c0ec",
   "metadata": {},
   "outputs": [],
   "source": [
    "import matplotlib.pyplot as plt\n",
    "import pandas as pd\n",
    "import seaborn as sns\n",
    "\n",
    "import os\n",
    "import openai\n",
    "\n",
    "from data_apps_aws.password_manager import get_api_token\n",
    "from data_apps_aws.utils import make_outside_legend"
   ]
  },
  {
   "cell_type": "code",
   "execution_count": null,
   "id": "1c7b1c66-1098-4409-8698-2117b8989450",
   "metadata": {},
   "outputs": [],
   "source": [
    "plt.rcParams['figure.figsize'] = 14, 6\n",
    "sns.set()"
   ]
  },
  {
   "cell_type": "code",
   "execution_count": null,
   "id": "d2ff88f4-8950-4883-a8e7-9a35989a3153",
   "metadata": {},
   "outputs": [],
   "source": [
    "openai.api_key = get_api_token('openai')"
   ]
  },
  {
   "cell_type": "code",
   "execution_count": null,
   "id": "d0e7097f-a49d-46c6-89cb-92b7fb9f6005",
   "metadata": {},
   "outputs": [],
   "source": [
    "# !pip install openai"
   ]
  },
  {
   "cell_type": "code",
   "execution_count": null,
   "id": "0a0901f3-e9ce-4789-b693-86b2d4de43e0",
   "metadata": {},
   "outputs": [],
   "source": [
    "def gpt3(prompt, engine='davinci', response_length=64,\n",
    "         temperature=0.7, top_p=1, frequency_penalty=0, presence_penalty=0,\n",
    "         start_text='', restart_text='', stop_seq=[]):\n",
    "    \n",
    "    response = openai.Completion.create(\n",
    "        prompt=prompt + start_text,\n",
    "        engine=engine,\n",
    "        max_tokens=response_length,\n",
    "        temperature=temperature,\n",
    "        top_p=top_p,\n",
    "        frequency_penalty=frequency_penalty,\n",
    "        presence_penalty=presence_penalty,\n",
    "        stop=stop_seq,\n",
    "    )\n",
    "    \n",
    "    answer = response.choices[0]['text']\n",
    "    new_prompt = prompt + start_text + answer + restart_text\n",
    "    \n",
    "    return answer, new_prompt"
   ]
  },
  {
   "cell_type": "code",
   "execution_count": null,
   "id": "395dbd52-0a1d-4374-8ebc-7367cabd1956",
   "metadata": {},
   "outputs": [],
   "source": [
    "def get_company_info(this_company):\n",
    "\n",
    "    example_prompt = \\\n",
    "    f\"\"\"Company info for Amazon: It focuses on e-commerce, cloud computing, digital streaming, and artificial intelligence.\n",
    "Company info for Apple: It makes software, mobile apps, personal computers, and home appliances.\n",
    "Company info for Microsoft: It makes computer software, consumer electronics, personal computers, and online services.\n",
    "Company info for Tesla: It makes electric cars, solar panels, and battery products.\n",
    "Company info for {this_company}:\"\"\"\n",
    "    \n",
    "    answer, new_prompt = gpt3(example_prompt, temperature=0, top_p=0.19, stop_seq=['Company info for'])\n",
    "    \n",
    "    return answer"
   ]
  },
  {
   "cell_type": "code",
   "execution_count": null,
   "id": "20a9d539-0905-41ee-bda7-8ec56cca8c46",
   "metadata": {},
   "outputs": [],
   "source": [
    "company_list = ['SAP', 'Scalable Capital', 'Kaufhof', 'Altana', 'Schering', 'Vitesco', 'Deutsche Bahn', 'HelloFresh', 'Porsche']"
   ]
  },
  {
   "cell_type": "code",
   "execution_count": null,
   "id": "f26de6e9-8620-4a7c-9020-d36f64699756",
   "metadata": {},
   "outputs": [],
   "source": [
    "for this_company in company_list[0:1]:\n",
    "    \n",
    "    answer = get_company_info(this_company)\n",
    "    print(f'{this_company}: {answer}')"
   ]
  },
  {
   "cell_type": "markdown",
   "id": "3da37fd0-01a6-400b-a22b-cf6a1f13c609",
   "metadata": {},
   "source": [
    "### FAQ Classifications"
   ]
  },
  {
   "cell_type": "code",
   "execution_count": null,
   "id": "40465597-c570-4988-b7ce-0d63f6109076",
   "metadata": {},
   "outputs": [],
   "source": [
    "faqs_raw = pd.read_csv('assets/scalable_capital_FAQs_ENG.csv')"
   ]
  },
  {
   "cell_type": "code",
   "execution_count": null,
   "id": "c21a1416-2aca-4514-b8be-c613340f2b35",
   "metadata": {},
   "outputs": [],
   "source": [
    "faqs_raw"
   ]
  },
  {
   "cell_type": "code",
   "execution_count": null,
   "id": "1896a2a1-6416-4166-881a-1e008d2518c5",
   "metadata": {},
   "outputs": [],
   "source": [
    "faqs_raw['metadata'] = faqs_raw['Category'] + ' ' + faqs_raw['Topic']\n",
    "faqs_raw['text'] = faqs_raw['FAQ'] + ' ' + faqs_raw['Answer']"
   ]
  },
  {
   "cell_type": "markdown",
   "id": "7375cbf0-f30b-49eb-85e9-15b369d8ad84",
   "metadata": {},
   "source": [
    "Write to disk"
   ]
  },
  {
   "cell_type": "code",
   "execution_count": null,
   "id": "fefa1b05-b5f4-4778-9eb5-a73901d8c88b",
   "metadata": {},
   "outputs": [],
   "source": [
    "df_to_json = faqs_raw.loc[:, ['text', 'metadata']]\n",
    "data = df_to_json.to_json(orient='records', lines=True)\n",
    "data = data[:-1] # remove \\n at end of string"
   ]
  },
  {
   "cell_type": "code",
   "execution_count": null,
   "id": "05f43f9d-a9b3-4577-9ed4-7507b06b86b1",
   "metadata": {},
   "outputs": [],
   "source": [
    "with open('assets/scalable_capital_FAQs_ENG.jsonl', 'w') as f:\n",
    "    print(data, file=f)"
   ]
  },
  {
   "cell_type": "code",
   "execution_count": null,
   "id": "677bd64d-0432-4baf-919f-8ccbb141ead7",
   "metadata": {},
   "outputs": [],
   "source": [
    "import jsonlines\n",
    "\n",
    "def check_jsonl_file(fname):\n",
    "    \n",
    "    with jsonlines.open(fname) as reader:\n",
    "        for obj in reader:\n",
    "            obj['metadata']"
   ]
  },
  {
   "cell_type": "code",
   "execution_count": null,
   "id": "c4194081-2516-48f3-8f8c-ff50bda569b1",
   "metadata": {},
   "outputs": [],
   "source": [
    "def search_response_to_df(response):\n",
    "    \n",
    "    all_entry_list = []\n",
    "    \n",
    "    for this_entry in response.data:\n",
    "        \n",
    "        all_entry_list.append(pd.DataFrame.from_dict({0: dict(this_entry)}, orient='index'))\n",
    "        \n",
    "    out_df = pd.concat(all_entry_list, axis=0).loc[:, ['score', 'metadata', 'text']].sort_values('score', ascending=False).reset_index(drop=True)\n",
    "        \n",
    "    return out_df"
   ]
  },
  {
   "cell_type": "code",
   "execution_count": null,
   "id": "0c41c540-d7f7-4690-801c-d4deeb38ee87",
   "metadata": {},
   "outputs": [],
   "source": [
    "check_jsonl_file('assets/scalable_capital_FAQs_ENG.jsonl')"
   ]
  },
  {
   "cell_type": "code",
   "execution_count": null,
   "id": "e5372710-58e8-4ba7-a9d2-b81c9640f7a1",
   "metadata": {},
   "outputs": [],
   "source": [
    "file_upload_response = openai.File.create(file=open(\"assets/scalable_capital_FAQs_ENG_long.jsonl\"), purpose=\"search\")\n",
    "file_id = file_upload_response.id"
   ]
  },
  {
   "cell_type": "code",
   "execution_count": null,
   "id": "db5e155f-68b9-44b8-9c6e-e3c5f3b54a5c",
   "metadata": {},
   "outputs": [],
   "source": [
    "this_query = 'How can I set up 2FA?'\n",
    "this_query = 'Can I transfer assets to Scalable?'\n",
    "this_query = 'I did not yet receive my premium?'\n",
    "this_query = 'How can I set up 2FA?'\n",
    "this_query = 'Do I need to use multi-factor authentication'\n",
    "this_query = 'What is a ETF'\n",
    "this_query = 'how much does it cost'\n",
    "this_query = 'how can I see the status of my tax allowance'\n",
    "this_query = 'I want to open an account for my children?'"
   ]
  },
  {
   "cell_type": "code",
   "execution_count": null,
   "id": "fbece064-801d-4c96-9c21-10628fbc1a26",
   "metadata": {},
   "outputs": [],
   "source": [
    "pd.set_option('display.max_colwidth', 4000)"
   ]
  },
  {
   "cell_type": "code",
   "execution_count": null,
   "id": "759dee9e-f12f-4772-9ecf-5fcfd5fed74f",
   "metadata": {},
   "outputs": [],
   "source": [
    "%%time\n",
    "response = openai.Engine(\"ada\").search(\n",
    "    search_model=\"ada\", \n",
    "    query=this_query, \n",
    "    max_rerank=10,\n",
    "    file=file_id,\n",
    "    return_metadata=True\n",
    ")\n",
    "\n",
    "out_df = search_response_to_df(response)\n",
    "out_df"
   ]
  }
 ],
 "metadata": {
  "kernelspec": {
   "display_name": "Python 3 (ipykernel)",
   "language": "python",
   "name": "python3"
  },
  "language_info": {
   "codemirror_mode": {
    "name": "ipython",
    "version": 3
   },
   "file_extension": ".py",
   "mimetype": "text/x-python",
   "name": "python",
   "nbconvert_exporter": "python",
   "pygments_lexer": "ipython3",
   "version": "3.8.10"
  }
 },
 "nbformat": 4,
 "nbformat_minor": 5
}
