{
 "cells": [
  {
   "cell_type": "markdown",
   "metadata": {},
   "source": [
    "The European central bank provides a lot of public data in their Statistical Data Warehouse. In this notebook we will show how to access data and metadata from Python."
   ]
  },
  {
   "cell_type": "code",
   "execution_count": 1,
   "metadata": {},
   "outputs": [],
   "source": [
    "import matplotlib.pyplot as plt\n",
    "import pandas as pd\n",
    "import seaborn as sns\n",
    "import quandl\n",
    "from pandasdmx import Request"
   ]
  },
  {
   "cell_type": "code",
   "execution_count": 2,
   "metadata": {},
   "outputs": [],
   "source": [
    "plt.rcParams['figure.figsize'] = 14, 6\n",
    "sns.set()"
   ]
  },
  {
   "cell_type": "markdown",
   "metadata": {},
   "source": [
    "## Get resource metadata"
   ]
  },
  {
   "cell_type": "markdown",
   "metadata": {},
   "source": [
    "ECB provides multiple resources in the Statistical Data Warehouse. For any resource acronym we can find the associated full name."
   ]
  },
  {
   "cell_type": "code",
   "execution_count": 3,
   "metadata": {},
   "outputs": [],
   "source": [
    "ecb = Request('ECB')"
   ]
  },
  {
   "cell_type": "code",
   "execution_count": 4,
   "metadata": {},
   "outputs": [],
   "source": [
    "def get_resource_name(this_resource_id):\n",
    "    \n",
    "    exr_flow = ecb.dataflow()\n",
    "    resource_types = exr_flow.write().dataflow\n",
    "    this_resource_name = exr_flow.write().dataflow.loc[this_resource_id, 'name']\n",
    "    \n",
    "    return this_resource_name"
   ]
  },
  {
   "cell_type": "code",
   "execution_count": 5,
   "metadata": {},
   "outputs": [
    {
     "data": {
      "text/plain": [
       "'Interest rate statistics'"
      ]
     },
     "execution_count": 5,
     "metadata": {},
     "output_type": "execute_result"
    }
   ],
   "source": [
    "this_resource_id = 'IRS'\n",
    "get_resource_name(this_resource_id)"
   ]
  },
  {
   "cell_type": "markdown",
   "metadata": {},
   "source": [
    "In order to translate these acronyms into names we can query the ECB warehouse to get a list of all related metadata dimensions:"
   ]
  },
  {
   "cell_type": "code",
   "execution_count": 6,
   "metadata": {},
   "outputs": [],
   "source": [
    "def get_resource_metadata_decodes(this_resource_id):\n",
    "    \n",
    "    this_resource_decodes = ecb.dataflow(this_resource_id).write().codelist\n",
    "    \n",
    "    return this_resource_decodes"
   ]
  },
  {
   "cell_type": "code",
   "execution_count": 7,
   "metadata": {},
   "outputs": [
    {
     "data": {
      "text/html": [
       "<div>\n",
       "<style scoped>\n",
       "    .dataframe tbody tr th:only-of-type {\n",
       "        vertical-align: middle;\n",
       "    }\n",
       "\n",
       "    .dataframe tbody tr th {\n",
       "        vertical-align: top;\n",
       "    }\n",
       "\n",
       "    .dataframe thead th {\n",
       "        text-align: right;\n",
       "    }\n",
       "</style>\n",
       "<table border=\"1\" class=\"dataframe\">\n",
       "  <thead>\n",
       "    <tr style=\"text-align: right;\">\n",
       "      <th></th>\n",
       "      <th></th>\n",
       "      <th>dim_or_attr</th>\n",
       "      <th>name</th>\n",
       "    </tr>\n",
       "  </thead>\n",
       "  <tbody>\n",
       "    <tr>\n",
       "      <th rowspan=\"2\" valign=\"top\">FREQ</th>\n",
       "      <th>FREQ</th>\n",
       "      <td>D</td>\n",
       "      <td>Frequency</td>\n",
       "    </tr>\n",
       "    <tr>\n",
       "      <th>M</th>\n",
       "      <td>D</td>\n",
       "      <td>Monthly</td>\n",
       "    </tr>\n",
       "  </tbody>\n",
       "</table>\n",
       "</div>"
      ],
      "text/plain": [
       "          dim_or_attr       name\n",
       "FREQ FREQ           D  Frequency\n",
       "     M              D    Monthly"
      ]
     },
     "execution_count": 7,
     "metadata": {},
     "output_type": "execute_result"
    }
   ],
   "source": [
    "decodes_df = get_resource_metadata_decodes(this_resource_id)\n",
    "decodes_df.head(2)"
   ]
  },
  {
   "cell_type": "code",
   "execution_count": 8,
   "metadata": {},
   "outputs": [
    {
     "data": {
      "text/plain": [
       "(3662, 2)"
      ]
     },
     "execution_count": 8,
     "metadata": {},
     "output_type": "execute_result"
    }
   ],
   "source": [
    "decodes_df.shape"
   ]
  },
  {
   "cell_type": "markdown",
   "metadata": {},
   "source": [
    "## Download data"
   ]
  },
  {
   "cell_type": "markdown",
   "metadata": {},
   "source": [
    "Download data with metadata as `pandas`:"
   ]
  },
  {
   "cell_type": "code",
   "execution_count": 9,
   "metadata": {},
   "outputs": [],
   "source": [
    "def get_ecb_long_term_yields(resource_id, ts_key, params=None):\n",
    "    \"\"\"\n",
    "    Download data from ECB\n",
    "    \"\"\"\n",
    "    \n",
    "    ecb = Request('ECB')\n",
    "    \n",
    "    if params is None:\n",
    "        data_response = ecb.data(resource_id = resource_id,\n",
    "                                 key={'REF_AREA': ts_key,\n",
    "                                     'IR_TYPE': 'L'})\n",
    "    else:\n",
    "        data_response = ecb.data(resource_id = resource_id,\n",
    "                                 key={'REF_AREA': ts_key,\n",
    "                                     'IR_TYPE': 'L'},\n",
    "                                     params=params\n",
    "                                )\n",
    "        \n",
    "    raw_data = data_response.data\n",
    "    series_tuple = (s for s in raw_data.series)\n",
    "    data = data_response.write(series_tuple)\n",
    "    \n",
    "    return data"
   ]
  },
  {
   "cell_type": "code",
   "execution_count": 10,
   "metadata": {},
   "outputs": [
    {
     "data": {
      "text/html": [
       "<div>\n",
       "<style scoped>\n",
       "    .dataframe tbody tr th:only-of-type {\n",
       "        vertical-align: middle;\n",
       "    }\n",
       "\n",
       "    .dataframe tbody tr th {\n",
       "        vertical-align: top;\n",
       "    }\n",
       "\n",
       "    .dataframe thead tr th {\n",
       "        text-align: left;\n",
       "    }\n",
       "\n",
       "    .dataframe thead tr:last-of-type th {\n",
       "        text-align: right;\n",
       "    }\n",
       "</style>\n",
       "<table border=\"1\" class=\"dataframe\">\n",
       "  <thead>\n",
       "    <tr>\n",
       "      <th>FREQ</th>\n",
       "      <th colspan=\"9\" halign=\"left\">M</th>\n",
       "    </tr>\n",
       "    <tr>\n",
       "      <th>REF_AREA</th>\n",
       "      <th>BG</th>\n",
       "      <th>CZ</th>\n",
       "      <th>DK</th>\n",
       "      <th>GB</th>\n",
       "      <th>HR</th>\n",
       "      <th>HU</th>\n",
       "      <th>PL</th>\n",
       "      <th>RO</th>\n",
       "      <th>SE</th>\n",
       "    </tr>\n",
       "    <tr>\n",
       "      <th>IR_TYPE</th>\n",
       "      <th>L</th>\n",
       "      <th>L</th>\n",
       "      <th>L</th>\n",
       "      <th>L</th>\n",
       "      <th>L</th>\n",
       "      <th>L</th>\n",
       "      <th>L</th>\n",
       "      <th>L</th>\n",
       "      <th>L</th>\n",
       "    </tr>\n",
       "    <tr>\n",
       "      <th>TR_TYPE</th>\n",
       "      <th>L40</th>\n",
       "      <th>L40</th>\n",
       "      <th>L40</th>\n",
       "      <th>L40</th>\n",
       "      <th>L40</th>\n",
       "      <th>L40</th>\n",
       "      <th>L40</th>\n",
       "      <th>L40</th>\n",
       "      <th>L40</th>\n",
       "    </tr>\n",
       "    <tr>\n",
       "      <th>MATURITY_CAT</th>\n",
       "      <th>CI</th>\n",
       "      <th>CI</th>\n",
       "      <th>CI</th>\n",
       "      <th>CI</th>\n",
       "      <th>CI</th>\n",
       "      <th>CI</th>\n",
       "      <th>CI</th>\n",
       "      <th>CI</th>\n",
       "      <th>CI</th>\n",
       "    </tr>\n",
       "    <tr>\n",
       "      <th>BS_COUNT_SECTOR</th>\n",
       "      <th>0000</th>\n",
       "      <th>0000</th>\n",
       "      <th>0000</th>\n",
       "      <th>0000</th>\n",
       "      <th>0000</th>\n",
       "      <th>0000</th>\n",
       "      <th>0000</th>\n",
       "      <th>0000</th>\n",
       "      <th>0000</th>\n",
       "    </tr>\n",
       "    <tr>\n",
       "      <th>CURRENCY_TRANS</th>\n",
       "      <th>BGN</th>\n",
       "      <th>CZK</th>\n",
       "      <th>DKK</th>\n",
       "      <th>GBP</th>\n",
       "      <th>HRK</th>\n",
       "      <th>HUF</th>\n",
       "      <th>PLN</th>\n",
       "      <th>RON</th>\n",
       "      <th>SEK</th>\n",
       "    </tr>\n",
       "    <tr>\n",
       "      <th>IR_BUS_COV</th>\n",
       "      <th>N</th>\n",
       "      <th>N</th>\n",
       "      <th>N</th>\n",
       "      <th>N</th>\n",
       "      <th>N</th>\n",
       "      <th>N</th>\n",
       "      <th>N</th>\n",
       "      <th>N</th>\n",
       "      <th>N</th>\n",
       "    </tr>\n",
       "    <tr>\n",
       "      <th>IR_FV_TYPE</th>\n",
       "      <th>Z</th>\n",
       "      <th>Z</th>\n",
       "      <th>Z</th>\n",
       "      <th>Z</th>\n",
       "      <th>Z</th>\n",
       "      <th>Z</th>\n",
       "      <th>Z</th>\n",
       "      <th>Z</th>\n",
       "      <th>Z</th>\n",
       "    </tr>\n",
       "    <tr>\n",
       "      <th>TIME_PERIOD</th>\n",
       "      <th></th>\n",
       "      <th></th>\n",
       "      <th></th>\n",
       "      <th></th>\n",
       "      <th></th>\n",
       "      <th></th>\n",
       "      <th></th>\n",
       "      <th></th>\n",
       "      <th></th>\n",
       "    </tr>\n",
       "  </thead>\n",
       "  <tbody>\n",
       "    <tr>\n",
       "      <th>2016-01</th>\n",
       "      <td>2.44</td>\n",
       "      <td>0.62</td>\n",
       "      <td>0.786</td>\n",
       "      <td>1.7253</td>\n",
       "      <td>3.84</td>\n",
       "      <td>3.36</td>\n",
       "      <td>3.00</td>\n",
       "      <td>3.60</td>\n",
       "      <td>1.02</td>\n",
       "    </tr>\n",
       "    <tr>\n",
       "      <th>2016-02</th>\n",
       "      <td>2.67</td>\n",
       "      <td>0.46</td>\n",
       "      <td>0.545</td>\n",
       "      <td>1.4362</td>\n",
       "      <td>3.68</td>\n",
       "      <td>3.36</td>\n",
       "      <td>3.03</td>\n",
       "      <td>3.33</td>\n",
       "      <td>0.77</td>\n",
       "    </tr>\n",
       "    <tr>\n",
       "      <th>2016-03</th>\n",
       "      <td>2.66</td>\n",
       "      <td>0.35</td>\n",
       "      <td>0.508</td>\n",
       "      <td>1.4641</td>\n",
       "      <td>3.66</td>\n",
       "      <td>3.13</td>\n",
       "      <td>2.89</td>\n",
       "      <td>3.34</td>\n",
       "      <td>0.82</td>\n",
       "    </tr>\n",
       "  </tbody>\n",
       "</table>\n",
       "</div>"
      ],
      "text/plain": [
       "FREQ                M                                                   \n",
       "REF_AREA           BG    CZ     DK      GB    HR    HU    PL    RO    SE\n",
       "IR_TYPE             L     L      L       L     L     L     L     L     L\n",
       "TR_TYPE           L40   L40    L40     L40   L40   L40   L40   L40   L40\n",
       "MATURITY_CAT       CI    CI     CI      CI    CI    CI    CI    CI    CI\n",
       "BS_COUNT_SECTOR  0000  0000   0000    0000  0000  0000  0000  0000  0000\n",
       "CURRENCY_TRANS    BGN   CZK    DKK     GBP   HRK   HUF   PLN   RON   SEK\n",
       "IR_BUS_COV          N     N      N       N     N     N     N     N     N\n",
       "IR_FV_TYPE          Z     Z      Z       Z     Z     Z     Z     Z     Z\n",
       "TIME_PERIOD                                                             \n",
       "2016-01          2.44  0.62  0.786  1.7253  3.84  3.36  3.00  3.60  1.02\n",
       "2016-02          2.67  0.46  0.545  1.4362  3.68  3.36  3.03  3.33  0.77\n",
       "2016-03          2.66  0.35  0.508  1.4641  3.66  3.13  2.89  3.34  0.82"
      ]
     },
     "execution_count": 10,
     "metadata": {},
     "output_type": "execute_result"
    }
   ],
   "source": [
    "# define list of countries\n",
    "list_of_areas_no_euro = ['BG', 'CZ', 'DK', 'GB', 'HR', 'HU', 'PL', 'RO', 'SE']\n",
    "\n",
    "# download data\n",
    "data_df = get_ecb_long_term_yields('IRS', list_of_areas_no_euro, params={'startPeriod': '2016'})\n",
    "data_df.head(3)"
   ]
  },
  {
   "cell_type": "markdown",
   "metadata": {},
   "source": [
    "## Interpret metadata"
   ]
  },
  {
   "cell_type": "markdown",
   "metadata": {},
   "source": [
    "For all data there exist multiple dimensions of metadata, called `concepts`. We can extract the acronyms of all dimensions from the data columns:"
   ]
  },
  {
   "cell_type": "code",
   "execution_count": 11,
   "metadata": {},
   "outputs": [],
   "source": [
    "def get_concept_list_from_data(data_df):\n",
    "    \n",
    "    return list(data_df.columns.names)"
   ]
  },
  {
   "cell_type": "code",
   "execution_count": 12,
   "metadata": {},
   "outputs": [
    {
     "data": {
      "text/plain": [
       "['FREQ',\n",
       " 'REF_AREA',\n",
       " 'IR_TYPE',\n",
       " 'TR_TYPE',\n",
       " 'MATURITY_CAT',\n",
       " 'BS_COUNT_SECTOR',\n",
       " 'CURRENCY_TRANS',\n",
       " 'IR_BUS_COV',\n",
       " 'IR_FV_TYPE']"
      ]
     },
     "execution_count": 12,
     "metadata": {},
     "output_type": "execute_result"
    }
   ],
   "source": [
    "list_of_data_concepts = get_concept_list_from_data(data_df)\n",
    "list_of_data_concepts"
   ]
  },
  {
   "cell_type": "markdown",
   "metadata": {},
   "source": [
    "So we can come up with a function that maps the dimension acronyms to meaningful names:"
   ]
  },
  {
   "cell_type": "code",
   "execution_count": 13,
   "metadata": {},
   "outputs": [],
   "source": [
    "def get_concept_decodes(decodes_df, concepts):\n",
    "    \n",
    "    concepts_labels = decodes_df.loc[(concepts, concepts), ['name']]\n",
    "    concepts_labels.index = concepts_labels.index.get_level_values(0)\n",
    "    \n",
    "    return concepts_labels"
   ]
  },
  {
   "cell_type": "code",
   "execution_count": 14,
   "metadata": {},
   "outputs": [
    {
     "data": {
      "text/html": [
       "<div>\n",
       "<style scoped>\n",
       "    .dataframe tbody tr th:only-of-type {\n",
       "        vertical-align: middle;\n",
       "    }\n",
       "\n",
       "    .dataframe tbody tr th {\n",
       "        vertical-align: top;\n",
       "    }\n",
       "\n",
       "    .dataframe thead th {\n",
       "        text-align: right;\n",
       "    }\n",
       "</style>\n",
       "<table border=\"1\" class=\"dataframe\">\n",
       "  <thead>\n",
       "    <tr style=\"text-align: right;\">\n",
       "      <th></th>\n",
       "      <th>name</th>\n",
       "    </tr>\n",
       "  </thead>\n",
       "  <tbody>\n",
       "    <tr>\n",
       "      <th>FREQ</th>\n",
       "      <td>Frequency</td>\n",
       "    </tr>\n",
       "    <tr>\n",
       "      <th>REF_AREA</th>\n",
       "      <td>Reference area</td>\n",
       "    </tr>\n",
       "    <tr>\n",
       "      <th>IR_TYPE</th>\n",
       "      <td>Interest rate type</td>\n",
       "    </tr>\n",
       "    <tr>\n",
       "      <th>TR_TYPE</th>\n",
       "      <td>Transaction type</td>\n",
       "    </tr>\n",
       "    <tr>\n",
       "      <th>MATURITY_CAT</th>\n",
       "      <td>Maturity category</td>\n",
       "    </tr>\n",
       "    <tr>\n",
       "      <th>BS_COUNT_SECTOR</th>\n",
       "      <td>BS counterpart sector</td>\n",
       "    </tr>\n",
       "    <tr>\n",
       "      <th>CURRENCY_TRANS</th>\n",
       "      <td>Currency of transaction</td>\n",
       "    </tr>\n",
       "    <tr>\n",
       "      <th>IR_BUS_COV</th>\n",
       "      <td>IR business coverage</td>\n",
       "    </tr>\n",
       "    <tr>\n",
       "      <th>IR_FV_TYPE</th>\n",
       "      <td>Interest rate type (fix/var)</td>\n",
       "    </tr>\n",
       "  </tbody>\n",
       "</table>\n",
       "</div>"
      ],
      "text/plain": [
       "                                         name\n",
       "FREQ                                Frequency\n",
       "REF_AREA                       Reference area\n",
       "IR_TYPE                    Interest rate type\n",
       "TR_TYPE                      Transaction type\n",
       "MATURITY_CAT                Maturity category\n",
       "BS_COUNT_SECTOR         BS counterpart sector\n",
       "CURRENCY_TRANS        Currency of transaction\n",
       "IR_BUS_COV               IR business coverage\n",
       "IR_FV_TYPE       Interest rate type (fix/var)"
      ]
     },
     "execution_count": 14,
     "metadata": {},
     "output_type": "execute_result"
    }
   ],
   "source": [
    "concept_decode_mapping = get_concept_decodes(decodes_df, list_of_data_concepts)\n",
    "concept_decode_mapping"
   ]
  },
  {
   "cell_type": "markdown",
   "metadata": {},
   "source": [
    "The same way we can also translate all occurring dimension values into meaningful labels:"
   ]
  },
  {
   "cell_type": "code",
   "execution_count": 15,
   "metadata": {},
   "outputs": [
    {
     "data": {
      "text/html": [
       "<div>\n",
       "<style scoped>\n",
       "    .dataframe tbody tr th:only-of-type {\n",
       "        vertical-align: middle;\n",
       "    }\n",
       "\n",
       "    .dataframe tbody tr th {\n",
       "        vertical-align: top;\n",
       "    }\n",
       "\n",
       "    .dataframe thead th {\n",
       "        text-align: right;\n",
       "    }\n",
       "</style>\n",
       "<table border=\"1\" class=\"dataframe\">\n",
       "  <thead>\n",
       "    <tr style=\"text-align: right;\">\n",
       "      <th></th>\n",
       "      <th>concept</th>\n",
       "      <th>concept_name</th>\n",
       "      <th>code</th>\n",
       "      <th>name</th>\n",
       "    </tr>\n",
       "  </thead>\n",
       "  <tbody>\n",
       "    <tr>\n",
       "      <th>0</th>\n",
       "      <td>FREQ</td>\n",
       "      <td>Frequency</td>\n",
       "      <td>M</td>\n",
       "      <td>Monthly</td>\n",
       "    </tr>\n",
       "    <tr>\n",
       "      <th>1</th>\n",
       "      <td>REF_AREA</td>\n",
       "      <td>Reference area</td>\n",
       "      <td>BG</td>\n",
       "      <td>Bulgaria</td>\n",
       "    </tr>\n",
       "    <tr>\n",
       "      <th>2</th>\n",
       "      <td>REF_AREA</td>\n",
       "      <td>Reference area</td>\n",
       "      <td>CZ</td>\n",
       "      <td>Czech Republic</td>\n",
       "    </tr>\n",
       "    <tr>\n",
       "      <th>3</th>\n",
       "      <td>REF_AREA</td>\n",
       "      <td>Reference area</td>\n",
       "      <td>DK</td>\n",
       "      <td>Denmark</td>\n",
       "    </tr>\n",
       "    <tr>\n",
       "      <th>4</th>\n",
       "      <td>REF_AREA</td>\n",
       "      <td>Reference area</td>\n",
       "      <td>GB</td>\n",
       "      <td>United Kingdom</td>\n",
       "    </tr>\n",
       "    <tr>\n",
       "      <th>5</th>\n",
       "      <td>REF_AREA</td>\n",
       "      <td>Reference area</td>\n",
       "      <td>HR</td>\n",
       "      <td>Croatia</td>\n",
       "    </tr>\n",
       "    <tr>\n",
       "      <th>6</th>\n",
       "      <td>REF_AREA</td>\n",
       "      <td>Reference area</td>\n",
       "      <td>HU</td>\n",
       "      <td>Hungary</td>\n",
       "    </tr>\n",
       "    <tr>\n",
       "      <th>7</th>\n",
       "      <td>REF_AREA</td>\n",
       "      <td>Reference area</td>\n",
       "      <td>PL</td>\n",
       "      <td>Poland</td>\n",
       "    </tr>\n",
       "    <tr>\n",
       "      <th>8</th>\n",
       "      <td>REF_AREA</td>\n",
       "      <td>Reference area</td>\n",
       "      <td>RO</td>\n",
       "      <td>Romania</td>\n",
       "    </tr>\n",
       "    <tr>\n",
       "      <th>9</th>\n",
       "      <td>REF_AREA</td>\n",
       "      <td>Reference area</td>\n",
       "      <td>SE</td>\n",
       "      <td>Sweden</td>\n",
       "    </tr>\n",
       "    <tr>\n",
       "      <th>10</th>\n",
       "      <td>IR_TYPE</td>\n",
       "      <td>Interest rate type</td>\n",
       "      <td>L</td>\n",
       "      <td>Long-term interest rate for convergence purposes</td>\n",
       "    </tr>\n",
       "    <tr>\n",
       "      <th>11</th>\n",
       "      <td>TR_TYPE</td>\n",
       "      <td>Transaction type</td>\n",
       "      <td>L40</td>\n",
       "      <td>Debt security issued</td>\n",
       "    </tr>\n",
       "    <tr>\n",
       "      <th>12</th>\n",
       "      <td>MATURITY_CAT</td>\n",
       "      <td>Maturity category</td>\n",
       "      <td>CI</td>\n",
       "      <td>10 years</td>\n",
       "    </tr>\n",
       "    <tr>\n",
       "      <th>13</th>\n",
       "      <td>BS_COUNT_SECTOR</td>\n",
       "      <td>BS counterpart sector</td>\n",
       "      <td>0000</td>\n",
       "      <td>Unspecified counterpart sector</td>\n",
       "    </tr>\n",
       "    <tr>\n",
       "      <th>14</th>\n",
       "      <td>CURRENCY_TRANS</td>\n",
       "      <td>Currency of transaction</td>\n",
       "      <td>BGN</td>\n",
       "      <td>Bulgarian lev</td>\n",
       "    </tr>\n",
       "    <tr>\n",
       "      <th>15</th>\n",
       "      <td>CURRENCY_TRANS</td>\n",
       "      <td>Currency of transaction</td>\n",
       "      <td>CZK</td>\n",
       "      <td>Czech koruna</td>\n",
       "    </tr>\n",
       "    <tr>\n",
       "      <th>16</th>\n",
       "      <td>CURRENCY_TRANS</td>\n",
       "      <td>Currency of transaction</td>\n",
       "      <td>DKK</td>\n",
       "      <td>Danish krone</td>\n",
       "    </tr>\n",
       "    <tr>\n",
       "      <th>17</th>\n",
       "      <td>CURRENCY_TRANS</td>\n",
       "      <td>Currency of transaction</td>\n",
       "      <td>GBP</td>\n",
       "      <td>UK pound sterling</td>\n",
       "    </tr>\n",
       "    <tr>\n",
       "      <th>18</th>\n",
       "      <td>CURRENCY_TRANS</td>\n",
       "      <td>Currency of transaction</td>\n",
       "      <td>HRK</td>\n",
       "      <td>Croatian kuna</td>\n",
       "    </tr>\n",
       "    <tr>\n",
       "      <th>19</th>\n",
       "      <td>CURRENCY_TRANS</td>\n",
       "      <td>Currency of transaction</td>\n",
       "      <td>HUF</td>\n",
       "      <td>Hungarian forint</td>\n",
       "    </tr>\n",
       "    <tr>\n",
       "      <th>20</th>\n",
       "      <td>CURRENCY_TRANS</td>\n",
       "      <td>Currency of transaction</td>\n",
       "      <td>PLN</td>\n",
       "      <td>Polish zloty</td>\n",
       "    </tr>\n",
       "    <tr>\n",
       "      <th>21</th>\n",
       "      <td>CURRENCY_TRANS</td>\n",
       "      <td>Currency of transaction</td>\n",
       "      <td>RON</td>\n",
       "      <td>Romanian leu</td>\n",
       "    </tr>\n",
       "    <tr>\n",
       "      <th>22</th>\n",
       "      <td>CURRENCY_TRANS</td>\n",
       "      <td>Currency of transaction</td>\n",
       "      <td>SEK</td>\n",
       "      <td>Swedish krona</td>\n",
       "    </tr>\n",
       "    <tr>\n",
       "      <th>23</th>\n",
       "      <td>IR_BUS_COV</td>\n",
       "      <td>IR business coverage</td>\n",
       "      <td>N</td>\n",
       "      <td>New business</td>\n",
       "    </tr>\n",
       "    <tr>\n",
       "      <th>24</th>\n",
       "      <td>IR_FV_TYPE</td>\n",
       "      <td>Interest rate type (fix/var)</td>\n",
       "      <td>Z</td>\n",
       "      <td>Unspecified</td>\n",
       "    </tr>\n",
       "  </tbody>\n",
       "</table>\n",
       "</div>"
      ],
      "text/plain": [
       "            concept                  concept_name  code  \\\n",
       "0              FREQ                     Frequency     M   \n",
       "1          REF_AREA                Reference area    BG   \n",
       "2          REF_AREA                Reference area    CZ   \n",
       "3          REF_AREA                Reference area    DK   \n",
       "4          REF_AREA                Reference area    GB   \n",
       "5          REF_AREA                Reference area    HR   \n",
       "6          REF_AREA                Reference area    HU   \n",
       "7          REF_AREA                Reference area    PL   \n",
       "8          REF_AREA                Reference area    RO   \n",
       "9          REF_AREA                Reference area    SE   \n",
       "10          IR_TYPE            Interest rate type     L   \n",
       "11          TR_TYPE              Transaction type   L40   \n",
       "12     MATURITY_CAT             Maturity category    CI   \n",
       "13  BS_COUNT_SECTOR         BS counterpart sector  0000   \n",
       "14   CURRENCY_TRANS       Currency of transaction   BGN   \n",
       "15   CURRENCY_TRANS       Currency of transaction   CZK   \n",
       "16   CURRENCY_TRANS       Currency of transaction   DKK   \n",
       "17   CURRENCY_TRANS       Currency of transaction   GBP   \n",
       "18   CURRENCY_TRANS       Currency of transaction   HRK   \n",
       "19   CURRENCY_TRANS       Currency of transaction   HUF   \n",
       "20   CURRENCY_TRANS       Currency of transaction   PLN   \n",
       "21   CURRENCY_TRANS       Currency of transaction   RON   \n",
       "22   CURRENCY_TRANS       Currency of transaction   SEK   \n",
       "23       IR_BUS_COV          IR business coverage     N   \n",
       "24       IR_FV_TYPE  Interest rate type (fix/var)     Z   \n",
       "\n",
       "                                                name  \n",
       "0                                            Monthly  \n",
       "1                                           Bulgaria  \n",
       "2                                     Czech Republic  \n",
       "3                                            Denmark  \n",
       "4                                     United Kingdom  \n",
       "5                                            Croatia  \n",
       "6                                            Hungary  \n",
       "7                                             Poland  \n",
       "8                                            Romania  \n",
       "9                                             Sweden  \n",
       "10  Long-term interest rate for convergence purposes  \n",
       "11                              Debt security issued  \n",
       "12                                          10 years  \n",
       "13                    Unspecified counterpart sector  \n",
       "14                                     Bulgarian lev  \n",
       "15                                      Czech koruna  \n",
       "16                                      Danish krone  \n",
       "17                                 UK pound sterling  \n",
       "18                                     Croatian kuna  \n",
       "19                                  Hungarian forint  \n",
       "20                                      Polish zloty  \n",
       "21                                      Romanian leu  \n",
       "22                                     Swedish krona  \n",
       "23                                      New business  \n",
       "24                                       Unspecified  "
      ]
     },
     "execution_count": 15,
     "metadata": {},
     "output_type": "execute_result"
    }
   ],
   "source": [
    "all_maps = None\n",
    "\n",
    "for this_concept in list_of_data_concepts:\n",
    "    \n",
    "    these_occurring_vals = data_df.columns.get_level_values(this_concept).unique().values\n",
    "    \n",
    "    # get occurring values\n",
    "    this_map = decodes_df.loc[this_concept, :].loc[these_occurring_vals, 'name'].to_frame().reset_index()\n",
    "    this_map.rename({'index': 'code'}, axis=1, inplace=True)\n",
    "    this_map['concept'] = this_concept\n",
    "    \n",
    "    if all_maps is None:\n",
    "        all_maps = this_map\n",
    "    else:\n",
    "        all_maps = pd.concat([all_maps, this_map], axis=0)\n",
    "\n",
    "\n",
    "df_merge = concept_decode_mapping.reset_index()\n",
    "df_merge.columns = ['concept', 'concept_name']\n",
    "\n",
    "all_maps.merge(df_merge).loc[:, ['concept', 'concept_name', 'code', 'name']]"
   ]
  },
  {
   "cell_type": "markdown",
   "metadata": {},
   "source": [
    "Or, if we want to look up some particular values for some given dimension (where the values will be translated and the original order will be preserved):"
   ]
  },
  {
   "cell_type": "code",
   "execution_count": 16,
   "metadata": {},
   "outputs": [],
   "source": [
    "def decode_concept_values(this_concept, these_values):\n",
    "    \n",
    "    if type(these_values) == 'str':\n",
    "        map_ss = all_maps.query('concept == @this_concept & code == @these_values')\n",
    "    else:\n",
    "        map_ss = all_maps.query('concept == @this_concept & code in @these_values')\n",
    "        \n",
    "    return map_ss.set_index('code').loc[these_values, 'name']"
   ]
  },
  {
   "cell_type": "code",
   "execution_count": 17,
   "metadata": {},
   "outputs": [
    {
     "data": {
      "text/plain": [
       "code\n",
       "BG          Bulgaria\n",
       "CZ    Czech Republic\n",
       "DK           Denmark\n",
       "GB    United Kingdom\n",
       "HR           Croatia\n",
       "HU           Hungary\n",
       "PL            Poland\n",
       "RO           Romania\n",
       "SE            Sweden\n",
       "Name: name, dtype: object"
      ]
     },
     "execution_count": 17,
     "metadata": {},
     "output_type": "execute_result"
    }
   ],
   "source": [
    "this_concept = 'REF_AREA'\n",
    "this_concept_values = data_df.columns.get_level_values(this_concept).values\n",
    "\n",
    "decoded_vals = decode_concept_values('REF_AREA', this_concept_values)\n",
    "decoded_vals"
   ]
  },
  {
   "cell_type": "code",
   "execution_count": 18,
   "metadata": {},
   "outputs": [
    {
     "data": {
      "text/plain": [
       "code\n",
       "CI    10 years\n",
       "CI    10 years\n",
       "CI    10 years\n",
       "CI    10 years\n",
       "CI    10 years\n",
       "CI    10 years\n",
       "CI    10 years\n",
       "CI    10 years\n",
       "CI    10 years\n",
       "Name: name, dtype: object"
      ]
     },
     "execution_count": 18,
     "metadata": {},
     "output_type": "execute_result"
    }
   ],
   "source": [
    "this_concept = 'MATURITY_CAT'\n",
    "this_concept_values = data_df.columns.get_level_values(this_concept).values\n",
    "\n",
    "decode_concept_values(this_concept, this_concept_values)"
   ]
  },
  {
   "cell_type": "markdown",
   "metadata": {},
   "source": [
    "That way, we can easily relabel the data with regards to the most relevant dimension only:"
   ]
  },
  {
   "cell_type": "code",
   "execution_count": 19,
   "metadata": {},
   "outputs": [
    {
     "data": {
      "text/html": [
       "<div>\n",
       "<style scoped>\n",
       "    .dataframe tbody tr th:only-of-type {\n",
       "        vertical-align: middle;\n",
       "    }\n",
       "\n",
       "    .dataframe tbody tr th {\n",
       "        vertical-align: top;\n",
       "    }\n",
       "\n",
       "    .dataframe thead th {\n",
       "        text-align: right;\n",
       "    }\n",
       "</style>\n",
       "<table border=\"1\" class=\"dataframe\">\n",
       "  <thead>\n",
       "    <tr style=\"text-align: right;\">\n",
       "      <th></th>\n",
       "      <th>Bulgaria</th>\n",
       "      <th>Czech Republic</th>\n",
       "      <th>Denmark</th>\n",
       "      <th>United Kingdom</th>\n",
       "      <th>Croatia</th>\n",
       "      <th>Hungary</th>\n",
       "      <th>Poland</th>\n",
       "      <th>Romania</th>\n",
       "      <th>Sweden</th>\n",
       "    </tr>\n",
       "    <tr>\n",
       "      <th>TIME_PERIOD</th>\n",
       "      <th></th>\n",
       "      <th></th>\n",
       "      <th></th>\n",
       "      <th></th>\n",
       "      <th></th>\n",
       "      <th></th>\n",
       "      <th></th>\n",
       "      <th></th>\n",
       "      <th></th>\n",
       "    </tr>\n",
       "  </thead>\n",
       "  <tbody>\n",
       "    <tr>\n",
       "      <th>2016-01</th>\n",
       "      <td>2.44</td>\n",
       "      <td>0.62</td>\n",
       "      <td>0.786</td>\n",
       "      <td>1.7253</td>\n",
       "      <td>3.84</td>\n",
       "      <td>3.36</td>\n",
       "      <td>3.00</td>\n",
       "      <td>3.60</td>\n",
       "      <td>1.02</td>\n",
       "    </tr>\n",
       "    <tr>\n",
       "      <th>2016-02</th>\n",
       "      <td>2.67</td>\n",
       "      <td>0.46</td>\n",
       "      <td>0.545</td>\n",
       "      <td>1.4362</td>\n",
       "      <td>3.68</td>\n",
       "      <td>3.36</td>\n",
       "      <td>3.03</td>\n",
       "      <td>3.33</td>\n",
       "      <td>0.77</td>\n",
       "    </tr>\n",
       "    <tr>\n",
       "      <th>2016-03</th>\n",
       "      <td>2.66</td>\n",
       "      <td>0.35</td>\n",
       "      <td>0.508</td>\n",
       "      <td>1.4641</td>\n",
       "      <td>3.66</td>\n",
       "      <td>3.13</td>\n",
       "      <td>2.89</td>\n",
       "      <td>3.34</td>\n",
       "      <td>0.82</td>\n",
       "    </tr>\n",
       "  </tbody>\n",
       "</table>\n",
       "</div>"
      ],
      "text/plain": [
       "             Bulgaria  Czech Republic  Denmark  United Kingdom  Croatia  \\\n",
       "TIME_PERIOD                                                               \n",
       "2016-01          2.44            0.62    0.786          1.7253     3.84   \n",
       "2016-02          2.67            0.46    0.545          1.4362     3.68   \n",
       "2016-03          2.66            0.35    0.508          1.4641     3.66   \n",
       "\n",
       "             Hungary  Poland  Romania  Sweden  \n",
       "TIME_PERIOD                                    \n",
       "2016-01         3.36    3.00     3.60    1.02  \n",
       "2016-02         3.36    3.03     3.33    0.77  \n",
       "2016-03         3.13    2.89     3.34    0.82  "
      ]
     },
     "execution_count": 19,
     "metadata": {},
     "output_type": "execute_result"
    }
   ],
   "source": [
    "data_labeled = data_df.copy()\n",
    "data_labeled.columns = decoded_vals.values\n",
    "data_labeled.head(3)"
   ]
  },
  {
   "cell_type": "code",
   "execution_count": 21,
   "metadata": {},
   "outputs": [
    {
     "data": {
      "image/png": "[encoded data removed]",
      "text/plain": [
       "<Figure size 1008x432 with 1 Axes>"
      ]
     },
     "metadata": {},
     "output_type": "display_data"
    }
   ],
   "source": [
    "data_labeled.plot()\n",
    "plt.show()"
   ]
  }
 ],
 "metadata": {
  "kernelspec": {
   "display_name": "Python 3",
   "language": "python",
   "name": "python3"
  },
  "language_info": {
   "codemirror_mode": {
    "name": "ipython",
    "version": 3
   },
   "file_extension": ".py",
   "mimetype": "text/x-python",
   "name": "python",
   "nbconvert_exporter": "python",
   "pygments_lexer": "ipython3",
   "version": "3.7.7"
  }
 },
 "nbformat": 4,
 "nbformat_minor": 4
}
