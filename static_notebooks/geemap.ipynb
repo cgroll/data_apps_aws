{
 "cells": [
  {
   "cell_type": "code",
   "execution_count": null,
   "metadata": {},
   "outputs": [],
   "source": [
    "import geemap\n",
    "import ee\n",
    "import numpy as np\n",
    "import pandas as pd"
   ]
  },
  {
   "cell_type": "code",
   "execution_count": null,
   "metadata": {},
   "outputs": [],
   "source": [
    "ee.Initialize()"
   ]
  },
  {
   "cell_type": "code",
   "execution_count": null,
   "metadata": {},
   "outputs": [],
   "source": [
    "Map = geemap.Map()"
   ]
  },
  {
   "cell_type": "markdown",
   "metadata": {},
   "source": [
    "## Run javascript snippets"
   ]
  },
  {
   "cell_type": "markdown",
   "metadata": {},
   "source": [
    "As first starting point, translate copy-pasted Javascript code to Python and execute locally."
   ]
  },
  {
   "cell_type": "code",
   "execution_count": null,
   "metadata": {},
   "outputs": [],
   "source": [
    "js_snippet = \"\"\"\n",
    "\n",
    "// Example script to load and visualize ERA5 climate reanalysis parameters in\n",
    "// Google Earth Engine\n",
    "\n",
    "// Daily mean 2m air temperature\n",
    "var era5_2mt = ee.ImageCollection('ECMWF/ERA5/DAILY')\n",
    "                   .select('mean_2m_air_temperature')\n",
    "                   .filter(ee.Filter.date('2019-07-01', '2019-07-31'));\n",
    "\n",
    "// Visualization palette for temperature (mean, min and max) and 2m dewpoint\n",
    "// temperature\n",
    "var vis2mt = {\n",
    "  min: 250,\n",
    "  max: 320,\n",
    "  palette: [\n",
    "    '#000080', '#0000D9', '#4000FF', '#8000FF', '#0080FF', '#00FFFF', '#00FF80',\n",
    "    '#80FF00', '#DAFF00', '#FFFF00', '#FFF500', '#FFDA00', '#FFB000', '#FFA400',\n",
    "    '#FF4F00', '#FF2500', '#FF0A00', '#FF00FF'\n",
    "  ]\n",
    "};\n",
    "\n",
    "Map.addLayer(\n",
    "    era5_2mt.filter(ee.Filter.date('2019-07-15')), vis2mt,\n",
    "    'Daily mean 2m air temperature');\n",
    "\n",
    "Map.setCenter(21.2, 22.2, 2);\n",
    "\n",
    "\"\"\""
   ]
  },
  {
   "cell_type": "code",
   "execution_count": null,
   "metadata": {},
   "outputs": [],
   "source": [
    "geemap.js_snippet_to_py(js_snippet, import_ee=False, import_geemap=False)"
   ]
  },
  {
   "cell_type": "code",
   "execution_count": null,
   "metadata": {},
   "outputs": [],
   "source": [
    "\n",
    "# Example script to load and visualize ERA5 climate reanalysis parameters in\n",
    "# Google Earth Engine\n",
    "\n",
    "# Daily mean 2m air temperature\n",
    "era5_2mt = ee.ImageCollection('ECMWF/ERA5/DAILY') \\\n",
    "                   .select('mean_2m_air_temperature') \\\n",
    "                   .filter(ee.Filter.date('2019-07-01', '2019-07-31'))\n",
    "\n",
    "# Visualization palette for temperature (mean, min and max) and 2m dewpoint\n",
    "# temperature\n",
    "vis2mt = {\n",
    "  'min': 250,\n",
    "  'max': 320,\n",
    "  'palette': [\n",
    "    '#000080', '#0000D9', '#4000FF', '#8000FF', '#0080FF', '#00FFFF', '#00FF80',\n",
    "    '#80FF00', '#DAFF00', '#FFFF00', '#FFF500', '#FFDA00', '#FFB000', '#FFA400',\n",
    "    '#FF4F00', '#FF2500', '#FF0A00', '#FF00FF'\n",
    "  ]\n",
    "}\n",
    "\n",
    "Map.addLayer(\n",
    "    era5_2mt.filter(ee.Filter.date('2019-07-15')), vis2mt,\n",
    "    'Daily mean 2m air temperature')\n",
    "\n",
    "Map.setCenter(21.2, 22.2, 2)\n",
    "Map\n"
   ]
  },
  {
   "cell_type": "markdown",
   "metadata": {},
   "source": [
    "## Inspect temperature data"
   ]
  },
  {
   "cell_type": "markdown",
   "metadata": {},
   "source": [
    "Let's further inspect the temperature data image collection"
   ]
  },
  {
   "cell_type": "code",
   "execution_count": null,
   "metadata": {},
   "outputs": [],
   "source": [
    "def extract_single_img(collection, idx=0):\n",
    "    \n",
    "    single_img = ee.Image(collection.toList(collection.size()).get(idx))\n",
    "    \n",
    "    return single_img"
   ]
  },
  {
   "cell_type": "code",
   "execution_count": null,
   "metadata": {},
   "outputs": [],
   "source": [
    "def extract_img_metadata(img, list_of_properties, img_id=0):\n",
    "    \n",
    "    props = {}\n",
    "    props[img_id] = {k: img['properties'][k] for k in list_of_properties}\n",
    "    \n",
    "    return props"
   ]
  },
  {
   "cell_type": "code",
   "execution_count": null,
   "metadata": {},
   "outputs": [],
   "source": [
    "def extract_img_collection_metadata(this_collection, list_of_properties):\n",
    "    \n",
    "    n_imgs = len(this_collection.getInfo()['features'])\n",
    "    img_features = this_collection.getInfo()['features']\n",
    "    \n",
    "    all_img_props = []\n",
    "    \n",
    "    for idx in np.arange(0, n_imgs):\n",
    "        \n",
    "        this_img_metadata = extract_img_metadata(img_features[idx], list_of_properties, idx)\n",
    "        all_img_props.append(pd.DataFrame().from_dict(this_img_metadata).T)\n",
    "        \n",
    "    return pd.concat(all_img_props, axis=0)"
   ]
  },
  {
   "cell_type": "code",
   "execution_count": null,
   "metadata": {},
   "outputs": [],
   "source": [
    "# Daily mean 2m air temperature\n",
    "era5_2mt = ee.ImageCollection('ECMWF/ERA5/DAILY') \\\n",
    "                   .select('mean_2m_air_temperature') \\\n",
    "                   .filter(ee.Filter.date('2019-07-01', '2019-07-31'))"
   ]
  },
  {
   "cell_type": "markdown",
   "metadata": {},
   "source": [
    "Get some metadata for a single image:"
   ]
  },
  {
   "cell_type": "code",
   "execution_count": null,
   "metadata": {},
   "outputs": [],
   "source": [
    "single_tmp_img = extract_single_img(era5_2mt)\n",
    "list_of_properties = ['year', 'month', 'day']\n",
    "\n",
    "extract_img_metadata(single_tmp_img.getInfo(), list_of_properties)"
   ]
  },
  {
   "cell_type": "markdown",
   "metadata": {},
   "source": [
    "Extract date / time info for all images of the collection"
   ]
  },
  {
   "cell_type": "code",
   "execution_count": null,
   "metadata": {},
   "outputs": [],
   "source": [
    "extract_img_collection_metadata(era5_2mt, list_of_properties).head(7)"
   ]
  },
  {
   "cell_type": "markdown",
   "metadata": {},
   "source": [
    "## Create gif"
   ]
  },
  {
   "cell_type": "markdown",
   "metadata": {},
   "source": [
    "Set a region in the following map. For this region we will visualize temperature data over time as a `gif`"
   ]
  },
  {
   "cell_type": "code",
   "execution_count": null,
   "metadata": {},
   "outputs": [],
   "source": [
    "Map = geemap.Map()\n",
    "Map.setCenter(21.2, 22.2, 2)\n",
    "Map"
   ]
  },
  {
   "cell_type": "code",
   "execution_count": null,
   "metadata": {},
   "outputs": [],
   "source": [
    "# color gradient for Celsius\n",
    "celsius_color_grad = {\n",
    "  'min': -40,\n",
    "  'max': 35,\n",
    "  'palette': ['blue', 'purple', 'cyan', 'green', 'yellow', 'red']\n",
    "}"
   ]
  },
  {
   "cell_type": "code",
   "execution_count": null,
   "metadata": {},
   "outputs": [],
   "source": [
    "def func_img_viz(img):\n",
    "    return img.subtract(273.5).visualize(**celsius_color_grad)"
   ]
  },
  {
   "cell_type": "code",
   "execution_count": null,
   "metadata": {},
   "outputs": [],
   "source": [
    "# Define GIF visualization arguments.\n",
    "gifParams = {\n",
    "  'region': Map.draw_last_feature.bounds(),\n",
    "  'dimensions': 600,\n",
    "  'framesPerSecond': 3,\n",
    "  'format': 'gif'\n",
    "}"
   ]
  },
  {
   "cell_type": "markdown",
   "metadata": {},
   "source": [
    "### Single year, one image per month"
   ]
  },
  {
   "cell_type": "code",
   "execution_count": null,
   "metadata": {},
   "outputs": [],
   "source": [
    "era5_2mt = ee.ImageCollection('ECMWF/ERA5/DAILY') \\\n",
    "                   .select('mean_2m_air_temperature') \\\n",
    "                   .filter(ee.Filter.date('2019-01-01', '2019-12-31')) \\\n",
    "                   .filterMetadata('day', 'equals', 1)"
   ]
  },
  {
   "cell_type": "code",
   "execution_count": null,
   "metadata": {},
   "outputs": [],
   "source": [
    "months = extract_img_collection_metadata(era5_2mt, list_of_properties)['month']"
   ]
  },
  {
   "cell_type": "code",
   "execution_count": null,
   "metadata": {},
   "outputs": [],
   "source": [
    "viz_img_coll = era5_2mt.map(func_img_viz)"
   ]
  },
  {
   "cell_type": "code",
   "execution_count": null,
   "metadata": {
    "scrolled": false
   },
   "outputs": [],
   "source": [
    "geemap.download_ee_video(viz_img_coll, gifParams, '/home/chris/Downloads/geemap.gif')"
   ]
  },
  {
   "cell_type": "code",
   "execution_count": null,
   "metadata": {},
   "outputs": [],
   "source": [
    "geemap.add_text_to_gif('/home/chris/Downloads/geemap.gif', \n",
    "                       '/home/chris/Downloads/geemap_annot.gif',\n",
    "                       text_sequence=months,\n",
    "                       duration=600\n",
    "              )"
   ]
  },
  {
   "cell_type": "code",
   "execution_count": null,
   "metadata": {},
   "outputs": [],
   "source": [
    "geemap.show_image('/home/chris/Downloads/geemap_annot.gif')"
   ]
  },
  {
   "cell_type": "markdown",
   "metadata": {},
   "source": [
    "### One image per year"
   ]
  },
  {
   "cell_type": "code",
   "execution_count": null,
   "metadata": {},
   "outputs": [],
   "source": [
    "era5_2mt = ee.ImageCollection('ECMWF/ERA5/DAILY') \\\n",
    "                   .select('mean_2m_air_temperature') \\\n",
    "                   .filter(ee.Filter.And(ee.Filter.eq('day', 1), ee.Filter.inList('month', ee.List([6]))))"
   ]
  },
  {
   "cell_type": "code",
   "execution_count": null,
   "metadata": {},
   "outputs": [],
   "source": [
    "years = extract_img_collection_metadata(era5_2mt, list_of_properties)['year']"
   ]
  },
  {
   "cell_type": "code",
   "execution_count": null,
   "metadata": {},
   "outputs": [],
   "source": [
    "viz_img_coll = era5_2mt.map(func_img_viz)"
   ]
  },
  {
   "cell_type": "code",
   "execution_count": null,
   "metadata": {
    "scrolled": false
   },
   "outputs": [],
   "source": [
    "geemap.download_ee_video(viz_img_coll, gifParams, '/home/chris/Downloads/geemap.gif')"
   ]
  },
  {
   "cell_type": "code",
   "execution_count": null,
   "metadata": {
    "scrolled": false
   },
   "outputs": [],
   "source": [
    "geemap.show_image('/home/chris/Downloads/geemap.gif')"
   ]
  },
  {
   "cell_type": "code",
   "execution_count": null,
   "metadata": {},
   "outputs": [],
   "source": [
    "geemap.add_text_to_gif('/home/chris/Downloads/geemap.gif', \n",
    "                       '/home/chris/Downloads/geemap_annot.gif',\n",
    "                       text_sequence=years,\n",
    "                       duration=200\n",
    "              )"
   ]
  },
  {
   "cell_type": "code",
   "execution_count": null,
   "metadata": {},
   "outputs": [],
   "source": [
    "geemap.show_image('/home/chris/Downloads/geemap_annot.gif')"
   ]
  },
  {
   "cell_type": "code",
   "execution_count": null,
   "metadata": {},
   "outputs": [],
   "source": [
    "width = 250\n",
    "height = 30\n",
    "palette = ['blue', 'purple', 'cyan', 'green', 'yellow', 'red']\n",
    "labels = [-40, 35]\n",
    "cbar = geemap.create_colorbar(width=width, height=height, palette=palette, vertical=True, labels=labels)"
   ]
  },
  {
   "cell_type": "code",
   "execution_count": null,
   "metadata": {},
   "outputs": [],
   "source": [
    "geemap.show_image(cbar)"
   ]
  },
  {
   "cell_type": "code",
   "execution_count": null,
   "metadata": {},
   "outputs": [],
   "source": [
    "geemap.add_image_to_gif(in_gif='/home/chris/Downloads/geemap_annot.gif', \n",
    "                        out_gif='/home/chris/Downloads/geemap_annot.gif',\n",
    "                        in_image=cbar,\n",
    "                        xy=(20, 80),\n",
    "                        image_size=(80, 80)\n",
    "                       )"
   ]
  },
  {
   "cell_type": "code",
   "execution_count": null,
   "metadata": {},
   "outputs": [],
   "source": [
    "geemap.show_image('/home/chris/Downloads/geemap_annot.gif')"
   ]
  },
  {
   "cell_type": "markdown",
   "metadata": {},
   "source": [
    "## Landsat"
   ]
  },
  {
   "cell_type": "code",
   "execution_count": null,
   "metadata": {},
   "outputs": [],
   "source": [
    "def extract_img_metadata(img):\n",
    "    \n",
    "    list_of_properties = ['WRS_PATH', 'WRS_ROW', 'DATE_ACQUIRED', \n",
    "                          'SCENE_CENTER_TIME', 'CLOUD_COVER', 'CLOUD_COVER_LAND'\n",
    "                         ]\n",
    "    img_id = img['properties']['LANDSAT_PRODUCT_ID']\n",
    "    \n",
    "    props = {}\n",
    "    props[img_id] = {k: img['properties'][k] for k in list_of_properties}\n",
    "    \n",
    "    return props"
   ]
  }
 ],
 "metadata": {
  "kernelspec": {
   "display_name": "Python 3",
   "language": "python",
   "name": "python3"
  },
  "language_info": {
   "codemirror_mode": {
    "name": "ipython",
    "version": 3
   },
   "file_extension": ".py",
   "mimetype": "text/x-python",
   "name": "python",
   "nbconvert_exporter": "python",
   "pygments_lexer": "ipython3",
   "version": "3.7.7"
  }
 },
 "nbformat": 4,
 "nbformat_minor": 4
}
