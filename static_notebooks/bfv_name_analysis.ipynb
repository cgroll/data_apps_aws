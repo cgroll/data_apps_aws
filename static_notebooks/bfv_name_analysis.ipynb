{
 "cells": [
  {
   "cell_type": "code",
   "execution_count": null,
   "metadata": {},
   "outputs": [],
   "source": [
    "import matplotlib.pyplot as plt\n",
    "import pandas as pd\n",
    "import seaborn as sns\n",
    "\n",
    "from data_apps_aws.sql import get_db_engine, get_db_data\n",
    "from data_apps_aws.utils import make_outside_legend\n",
    "from data_apps_aws.sql import *\n",
    "\n",
    "from itables import show\n",
    "import itables.options as opt\n",
    "opt.maxBytes = 0"
   ]
  },
  {
   "cell_type": "code",
   "execution_count": null,
   "metadata": {},
   "outputs": [],
   "source": [
    "plt.rcParams['figure.figsize'] = 14, 6\n",
    "sns.set()"
   ]
  },
  {
   "cell_type": "code",
   "execution_count": null,
   "metadata": {},
   "outputs": [],
   "source": [
    "db_con = get_db_engine('bfv_data')"
   ]
  },
  {
   "cell_type": "markdown",
   "metadata": {},
   "source": [
    "Noteworthy data aspects:\n",
    "- trainer: first / last name seems to be mixed up --> almost none are found, names are misclassified\n",
    "- SV Bernried II exists twice "
   ]
  },
  {
   "cell_type": "markdown",
   "metadata": {},
   "source": [
    "## Data pipelines"
   ]
  },
  {
   "cell_type": "markdown",
   "metadata": {},
   "source": [
    "### Overview selected leagues"
   ]
  },
  {
   "cell_type": "code",
   "execution_count": null,
   "metadata": {},
   "outputs": [],
   "source": [
    "league_info = pd.read_csv('../data_pipes/bfv/bfv_league_links.csv')\n",
    "\n",
    "n_leagues = league_info.shape[0]\n",
    "print(f'Overall number of leagues: {n_leagues}')"
   ]
  },
  {
   "cell_type": "code",
   "execution_count": null,
   "metadata": {},
   "outputs": [],
   "source": [
    "league_ids = []\n",
    "for this_league_link in league_info['Link']:\n",
    "    league_ids.append(this_league_link.split('https://www.bfv.de/wettbewerbe/meisterschaften/')[1])\n",
    "    \n",
    "league_info['league_id'] = league_ids"
   ]
  },
  {
   "cell_type": "code",
   "execution_count": null,
   "metadata": {},
   "outputs": [],
   "source": [
    "n_leagues = league_info.groupby(['Saison', 'Info', 'Gebiet', 'Liga'])['Link'].count().to_frame()\n",
    "n_leagues.rename({'Link': 'n_count'}, axis=1)"
   ]
  },
  {
   "cell_type": "markdown",
   "metadata": {},
   "source": [
    "### League table scanning"
   ]
  },
  {
   "cell_type": "code",
   "execution_count": null,
   "metadata": {},
   "outputs": [],
   "source": [
    "query = \"\"\"\n",
    "SELECT * FROM bfv.page_scan_logging;\n",
    "\"\"\"\n",
    "\n",
    "data_pipe_logging = get_db_data(query, db_con)"
   ]
  },
  {
   "cell_type": "markdown",
   "metadata": {},
   "source": [
    "For each given league we extracted associated final tables."
   ]
  },
  {
   "cell_type": "code",
   "execution_count": null,
   "metadata": {},
   "outputs": [],
   "source": [
    "data_pipe_logging.query('job_type == \"league_tables\"').head(4)"
   ]
  },
  {
   "cell_type": "markdown",
   "metadata": {},
   "source": [
    "For some leagues it did not work:"
   ]
  },
  {
   "cell_type": "code",
   "execution_count": null,
   "metadata": {},
   "outputs": [],
   "source": [
    "not_successful_table_scans = data_pipe_logging.query('job_type == \"league_tables\" and success == 0')\n",
    "not_successful_table_scans"
   ]
  },
  {
   "cell_type": "code",
   "execution_count": null,
   "metadata": {},
   "outputs": [],
   "source": [
    "skipped_table_scans = data_pipe_logging.query('job_type == \"league_tables\" and success == 1 and skipped == 1')\n",
    "assert skipped_table_scans.shape[0] == 0, 'We expect no skipped table scan'\n",
    "skipped_table_scans"
   ]
  },
  {
   "cell_type": "code",
   "execution_count": null,
   "metadata": {},
   "outputs": [],
   "source": [
    "league_info.set_index('league_id').loc[not_successful_table_scans['league_id'].values, :]"
   ]
  },
  {
   "cell_type": "markdown",
   "metadata": {},
   "source": [
    "### Match-day scanning"
   ]
  },
  {
   "cell_type": "markdown",
   "metadata": {},
   "source": [
    "For all leagues we also tried to find all games for two match days:"
   ]
  },
  {
   "cell_type": "code",
   "execution_count": null,
   "metadata": {},
   "outputs": [],
   "source": [
    "not_successful_matchday_scans = data_pipe_logging.query('job_type == \"matchday_games\" and success == 0')\n",
    "assert not_successful_matchday_scans.shape[0] == 1, 'We only know about a single failure so far. Code needs to be adapted otherwise'\n",
    "\n",
    "not_successful_matchday_scans"
   ]
  },
  {
   "cell_type": "code",
   "execution_count": null,
   "metadata": {},
   "outputs": [],
   "source": [
    "skipped_table_scans = data_pipe_logging.query('job_type == \"matchday_games\" and success == 1 and skipped == 1')\n",
    "assert skipped_table_scans.shape[0] == 0, 'We expect no skipped table scan'\n",
    "skipped_table_scans"
   ]
  },
  {
   "cell_type": "code",
   "execution_count": null,
   "metadata": {},
   "outputs": [],
   "source": [
    "this_league_id, this_match_day = not_successful_matchday_scans['league_id'].values[0].split('#')\n",
    "\n",
    "print(f'We did not get matchday games for matchday {this_match_day} of the following league:')\n",
    "\n",
    "league_info.set_index('league_id').loc[this_league_id, :].to_frame()"
   ]
  },
  {
   "cell_type": "markdown",
   "metadata": {},
   "source": [
    "### Match participant scanning"
   ]
  },
  {
   "cell_type": "markdown",
   "metadata": {},
   "source": [
    "For all matches we tried to get all involved match participants:"
   ]
  },
  {
   "cell_type": "code",
   "execution_count": null,
   "metadata": {},
   "outputs": [],
   "source": [
    "not_successful_match_scans = data_pipe_logging.query('job_type == \"match_participants\" and success == 0').copy()\n",
    "\n",
    "all_match_links = []\n",
    "for this_league_id in not_successful_match_scans['league_id']:\n",
    "    all_match_links.append('https://www.bfv.de/spiele/' + this_league_id)\n",
    "    \n",
    "not_successful_match_scans['match_link'] = all_match_links\n",
    "\n",
    "n_failed_match_scans = not_successful_match_scans.shape[0]\n",
    "print(f'Number of failed match scans where match participants could not be found: {n_failed_match_scans}')"
   ]
  },
  {
   "cell_type": "code",
   "execution_count": null,
   "metadata": {},
   "outputs": [],
   "source": [
    "for this_entry in not_successful_match_scans['match_link']:\n",
    "    print(this_entry)"
   ]
  },
  {
   "cell_type": "code",
   "execution_count": null,
   "metadata": {},
   "outputs": [],
   "source": [
    "not_successful_match_scans = data_pipe_logging.query('job_type == \"match_participants\" and success == 1 and skipped == 1')\n",
    "# assert not_successful_matchday_scans.shape[0] == 1, 'We only know about a single failure so far. Code needs to be adapted otherwise'\n",
    "\n",
    "not_successful_match_scans"
   ]
  },
  {
   "cell_type": "markdown",
   "metadata": {},
   "source": [
    "## Data availability"
   ]
  },
  {
   "cell_type": "markdown",
   "metadata": {},
   "source": [
    "Most players participate in more than 1 game. Some of them even participate in more than 2 games, even though we by construction targeted only 2 games per team. Reasons for this are:\n",
    "\n",
    "- player is part of first and second team of a club, hence has multiple matches per match day. This could mean multiple matches per day, but actually match days of different leagues do not need to be synchronized with regards to calendar days. Hence, e.g. the 9th match day of the first and the second team could also have been taken place on different dates\n",
    "\n",
    "- some team had multiple games listed on a single match day page. This can happen whenever some matches have been postponed\n"
   ]
  },
  {
   "cell_type": "code",
   "execution_count": null,
   "metadata": {},
   "outputs": [],
   "source": [
    "query = \"\"\"\n",
    "SELECT *\n",
    "FROM match_participants\n",
    "\"\"\"\n",
    "\n",
    "match_participants_raw = get_db_data(query, db_con)\n",
    "\n",
    "# remove trainer\n",
    "match_participants_raw = match_participants_raw[match_participants_raw['type'] != 'trainer']"
   ]
  },
  {
   "cell_type": "code",
   "execution_count": null,
   "metadata": {},
   "outputs": [],
   "source": [
    "match_participants_raw['type'].unique()"
   ]
  },
  {
   "cell_type": "code",
   "execution_count": null,
   "metadata": {},
   "outputs": [],
   "source": [
    "n_matches_per_player = match_participants_raw.groupby(['person_id'])['match_id'].nunique().sort_values()"
   ]
  },
  {
   "cell_type": "markdown",
   "metadata": {},
   "source": [
    "Distribution of number of games per player:"
   ]
  },
  {
   "cell_type": "code",
   "execution_count": null,
   "metadata": {},
   "outputs": [],
   "source": [
    "n_matches_per_player.hist()\n",
    "plt.xlabel('Number of matches per player')\n",
    "plt.ylabel('Number of players')\n",
    "\n",
    "plt.show()"
   ]
  },
  {
   "cell_type": "markdown",
   "metadata": {},
   "source": [
    "Players with highest number of matches:"
   ]
  },
  {
   "cell_type": "code",
   "execution_count": null,
   "metadata": {},
   "outputs": [],
   "source": [
    "these_players = n_matches_per_player.tail(10).index.values\n",
    "\n",
    "multiple_match_players = match_participants_raw.query('person_id in @these_players').groupby(['person_id', 'player_name', 'team_id', 'team'])['match_id'].nunique()\n",
    "multiple_match_players = multiple_match_players.to_frame().reset_index().drop(columns=['person_id', 'team_id'])\n",
    "multiple_match_players.rename({'match_id': 'n_matches'}, axis=1, inplace=True)\n",
    "multiple_match_players.set_index('player_name')"
   ]
  },
  {
   "cell_type": "markdown",
   "metadata": {},
   "source": [
    "Some teams have more than 2 matches in the sample. This can happen due to matches that have been postponed:"
   ]
  },
  {
   "cell_type": "code",
   "execution_count": null,
   "metadata": {},
   "outputs": [],
   "source": [
    "n_matches_per_team = match_participants_raw.groupby(['team', 'team_id'])['match_id'].nunique().to_frame()\n",
    "n_matches_per_team = n_matches_per_team.reset_index()\n",
    "n_matches_per_team.rename({'match_id': 'n_matches'}, axis=1, inplace=True)\n",
    "n_matches_per_team = n_matches_per_team.sort_values('n_matches')\n",
    "n_matches_per_team.drop(columns=['team_id']).tail(10)"
   ]
  },
  {
   "cell_type": "markdown",
   "metadata": {},
   "source": [
    "We can also look at the number of participants per match for each team:"
   ]
  },
  {
   "cell_type": "code",
   "execution_count": null,
   "metadata": {},
   "outputs": [],
   "source": [
    "n_players_per_match_and_team = match_participants_raw.groupby(['team', 'team_id', 'match_id'])['person_id'].nunique().to_frame()\n",
    "n_players_per_match_and_team = n_players_per_match_and_team.reset_index()\n",
    "n_players_per_match_and_team.rename({'person_id': 'n_persons'}, axis=1, inplace=True)\n",
    "n_players_per_match_and_team = n_players_per_match_and_team.sort_values('n_persons')\n",
    "n_players_per_match_and_team.drop(columns=['team_id']).tail(10)"
   ]
  },
  {
   "cell_type": "code",
   "execution_count": null,
   "metadata": {},
   "outputs": [],
   "source": [
    "n_players_per_match_and_team.sort_values('n_persons')"
   ]
  },
  {
   "cell_type": "markdown",
   "metadata": {},
   "source": [
    "In case that some team was withdrawn from the championship, teams involved in one of the \"cancelled\" matches might have zeros players listed."
   ]
  },
  {
   "cell_type": "code",
   "execution_count": null,
   "metadata": {},
   "outputs": [],
   "source": [
    "n_bins = n_players_per_match_and_team['n_persons'].max() + 1 # because 0 could also occur\n",
    "n_players_per_match_and_team.loc[:, ['match_id', 'n_persons']].set_index('match_id').hist(bins=n_bins)\n",
    "plt.xlabel('Number of persons per team per match')\n",
    "plt.show()"
   ]
  },
  {
   "cell_type": "markdown",
   "metadata": {},
   "source": [
    "Create a look-up for match-ids and their respective championship:"
   ]
  },
  {
   "cell_type": "code",
   "execution_count": null,
   "metadata": {},
   "outputs": [],
   "source": [
    "query = \"\"\"\n",
    "SELECT *\n",
    "FROM match_day_links\n",
    "\"\"\"\n",
    "\n",
    "match_day_links_raw = get_db_data(query, db_con)\n",
    "\n",
    "# remove entries without link\n",
    "championship_match_affil = match_day_links_raw.loc[~match_day_links_raw['link'].isna()].copy()"
   ]
  },
  {
   "cell_type": "code",
   "execution_count": null,
   "metadata": {},
   "outputs": [],
   "source": [
    "all_match_ids = []\n",
    "for this_link in championship_match_affil['link'].values:\n",
    "    all_match_ids.append(this_link.split('https://www.bfv.de/spiele/')[1])\n",
    "championship_match_affil['match_id'] = all_match_ids\n",
    "championship_match_affil.tail(3)"
   ]
  },
  {
   "cell_type": "markdown",
   "metadata": {},
   "source": [
    "Show an example of a team with more matches than expected:"
   ]
  },
  {
   "cell_type": "code",
   "execution_count": null,
   "metadata": {},
   "outputs": [],
   "source": [
    "# get team with most matches\n",
    "this_team_id = n_matches_per_team['team_id'].tail(1).squeeze()\n",
    "this_team_name = n_matches_per_team['team'].tail(1).squeeze()\n",
    "this_team_match_ids = n_players_per_match_and_team.query('team_id == @this_team_id')['match_id'].values\n",
    "\n",
    "this_team_matches_and_match_days = championship_match_affil.query('match_id in @this_team_match_ids').copy()\n",
    "this_team_matches_and_match_days.insert(0, 'team_id', this_team_id)\n",
    "this_team_matches_and_match_days.insert(0, 'team', this_team_name)\n",
    "this_team_matches_and_match_days.drop(columns=['last_updated', 'match_id'], inplace=True)\n",
    "this_team_matches_and_match_days.merge(league_info, left_on='championship_id', right_on='league_id')"
   ]
  },
  {
   "cell_type": "markdown",
   "metadata": {},
   "source": [
    "## First name distributions"
   ]
  },
  {
   "cell_type": "markdown",
   "metadata": {},
   "source": [
    "### Anonymous players"
   ]
  },
  {
   "cell_type": "markdown",
   "metadata": {},
   "source": [
    "For some match participants we do not get a player name nor a person_id. We will throw out these entries."
   ]
  },
  {
   "cell_type": "code",
   "execution_count": null,
   "metadata": {},
   "outputs": [],
   "source": [
    "match_participants_raw[match_participants_raw['person_id'].isna()].head(2)"
   ]
  },
  {
   "cell_type": "code",
   "execution_count": null,
   "metadata": {},
   "outputs": [],
   "source": [
    "anonymous_players_per_match = match_participants_raw[match_participants_raw['person_id'].isna()]\n",
    "anonymous_players_per_match = anonymous_players_per_match.groupby(['team', 'team_id', 'match_id'])['first_name'].count().to_frame()\n",
    "anonymous_players_per_match.rename({'first_name': 'n_anonymous'}, inplace=True, axis=1)\n",
    "anonymous_players_per_match.reset_index().drop(columns=['team_id']).sort_values('n_anonymous').tail(8)"
   ]
  },
  {
   "cell_type": "code",
   "execution_count": null,
   "metadata": {},
   "outputs": [],
   "source": [
    "n_overall_anonymous = anonymous_players_per_match.sum().squeeze()\n",
    "print(f'Overall occurrence of anonymous players: {n_overall_anonymous}')"
   ]
  },
  {
   "cell_type": "markdown",
   "metadata": {},
   "source": [
    "### Ambiguous names"
   ]
  },
  {
   "cell_type": "markdown",
   "metadata": {},
   "source": [
    "Some names are not camel case and some are abbreviated:"
   ]
  },
  {
   "cell_type": "code",
   "execution_count": null,
   "metadata": {},
   "outputs": [],
   "source": [
    "match_participants_ids = match_participants_raw[~match_participants_raw['person_id'].isna()]\n",
    "match_participants_ids.head(3)"
   ]
  },
  {
   "cell_type": "code",
   "execution_count": null,
   "metadata": {},
   "outputs": [],
   "source": [
    "names_per_person_id = match_participants_ids.loc[:, ['person_id', 'player_name', 'first_name']].groupby(['person_id']).nunique()\n",
    "\n",
    "xx_msk = (names_per_person_id['player_name'] > 1) | (names_per_person_id['first_name'] > 1)\n",
    "ambiguous_name_entries = names_per_person_id.loc[xx_msk, :]\n",
    "\n",
    "ambiguous_name_ids = ambiguous_name_entries.index.values\n",
    "\n",
    "ambiguous_name_entries.sort_values(['first_name', 'player_name']).tail(10)"
   ]
  },
  {
   "cell_type": "code",
   "execution_count": null,
   "metadata": {},
   "outputs": [],
   "source": [
    "ambiguous_names = match_participants_ids[match_participants_ids['person_id'].isin(ambiguous_name_ids)].loc[:, ['person_id', 'player_name', 'first_name']]\n",
    "ambiguous_names.sort_values('person_id').drop_duplicates()"
   ]
  },
  {
   "cell_type": "markdown",
   "metadata": {},
   "source": [
    "### Abbreviations"
   ]
  },
  {
   "cell_type": "code",
   "execution_count": null,
   "metadata": {},
   "outputs": [],
   "source": [
    "def name_abbrev(some_str):\n",
    "    if \".\" in some_str:\n",
    "        return True\n",
    "    else:\n",
    "        return False"
   ]
  },
  {
   "cell_type": "code",
   "execution_count": null,
   "metadata": {},
   "outputs": [],
   "source": [
    "abbreviation_mapping = {'Alex.': 'Alexander',\n",
    "                        'Johann.': 'Johannes',\n",
    "                        'Reinh.': 'Reinhard',\n",
    "                        'Christ.': 'Christian',\n",
    "                        'Chris.': 'Christian',\n",
    "                        'And.': 'Andreas',\n",
    "                        'Thorst.': 'Thorsten',\n",
    "                        'Juer.': 'Jürgen',\n",
    "                        'Mich.': 'Michael',\n",
    "                        'Joh.': 'Johannes',\n",
    "                        'Seb.': 'Sebastian',\n",
    "                        'Sebasti.': 'Sebastian',\n",
    "                        'Sebast.': 'Sebastian',\n",
    "                        'Domin.': 'Dominik',\n",
    "                        'Rud.': 'Rudolph',\n",
    "                        'Benj.': 'Benjamin',\n",
    "                        'Friedr.': 'Friedrich',\n",
    "                        'Christo.': 'Christoph',\n",
    "                        'Matth.': 'Matthias',\n",
    "                       }"
   ]
  },
  {
   "cell_type": "code",
   "execution_count": null,
   "metadata": {},
   "outputs": [],
   "source": [
    "xx_msk = match_participants_ids['first_name'].apply(lambda x: name_abbrev(x))\n",
    "abbr_names = match_participants_ids.loc[xx_msk, :]\n",
    "abbr_names = abbr_names.loc[:, ['person_id', 'player_name', 'first_name', 'team']].drop_duplicates()\n",
    "abbr_names['inferred'] = abbr_names['first_name'].map(abbreviation_mapping)\n",
    "abbr_names"
   ]
  },
  {
   "cell_type": "markdown",
   "metadata": {},
   "source": [
    "### Map to standardized names"
   ]
  },
  {
   "cell_type": "markdown",
   "metadata": {},
   "source": [
    "First step is to find a single and standardized first name for each player:"
   ]
  },
  {
   "cell_type": "code",
   "execution_count": null,
   "metadata": {},
   "outputs": [],
   "source": [
    "person_infos = match_participants_ids.loc[:, ['person_id', 'team', 'player_name', 'first_name', 'match_id']]\n",
    "\n",
    "# deal with name abbreviations\n",
    "person_infos['std_first_name'] = person_infos['first_name'].map(abbreviation_mapping)\n",
    "xx_msk = person_infos['std_first_name'].isna()\n",
    "person_infos.loc[xx_msk, 'std_first_name'] = person_infos.loc[xx_msk, 'first_name']"
   ]
  },
  {
   "cell_type": "code",
   "execution_count": null,
   "metadata": {},
   "outputs": [],
   "source": [
    "n_players = person_infos['person_id'].nunique()"
   ]
  },
  {
   "cell_type": "code",
   "execution_count": null,
   "metadata": {},
   "outputs": [],
   "source": [
    "# deal with ambiguous names\n",
    "person_infos = person_infos.merge(championship_match_affil.loc[:, ['match_day', 'match_id']], how='left')\n",
    "\n",
    "# get maximum match day per person id\n",
    "max_match_day_per_person = person_infos.groupby(['person_id'])['match_day'].idxmax()\n",
    "person_infos = person_infos.loc[max_match_day_per_person.values, :]\n",
    "\n",
    "assert n_players == person_infos['person_id'].nunique(), 'Number of unique person-IDs did change'\n",
    "\n",
    "person_infos = person_infos.loc[:, ['person_id', 'player_name', 'first_name', 'std_first_name']]"
   ]
  },
  {
   "cell_type": "code",
   "execution_count": null,
   "metadata": {},
   "outputs": [],
   "source": [
    "# make lower case\n",
    "person_infos['std_first_name'] = person_infos['std_first_name'].map(lambda x: x.lower())"
   ]
  },
  {
   "cell_type": "markdown",
   "metadata": {},
   "source": [
    "## Names found / not found"
   ]
  },
  {
   "cell_type": "code",
   "execution_count": null,
   "metadata": {},
   "outputs": [],
   "source": [
    "query = \"\"\"\n",
    "SELECT *\n",
    "FROM page_scan_logging_forebears\n",
    "\"\"\"\n",
    "\n",
    "name_scan_logging = get_db_data(query, db_con)\n",
    "name_scan_logging.head(3)"
   ]
  },
  {
   "cell_type": "code",
   "execution_count": null,
   "metadata": {},
   "outputs": [],
   "source": [
    "not_successful_name_scans = name_scan_logging.query('success == 0 or skipped == 1')\n",
    "not_successful_name_scans"
   ]
  },
  {
   "cell_type": "code",
   "execution_count": null,
   "metadata": {},
   "outputs": [],
   "source": [
    "query = \"\"\"\n",
    "SELECT *\n",
    "FROM forebears_name_lookup\n",
    "\"\"\"\n",
    "\n",
    "name_scan_results_raw = get_db_data(query, db_con)\n",
    "\n",
    "# make lower case\n",
    "name_scan_results_raw['name'] = name_scan_results_raw['name'].map(lambda x: x.lower())\n",
    "name_scan_results_raw.head(3)"
   ]
  },
  {
   "cell_type": "code",
   "execution_count": null,
   "metadata": {},
   "outputs": [],
   "source": [
    "unique_scanned_names = name_scan_results_raw['name'].unique()\n",
    "unique_occur_names = person_infos['std_first_name'].unique()"
   ]
  },
  {
   "cell_type": "code",
   "execution_count": null,
   "metadata": {},
   "outputs": [],
   "source": [
    "unknown_names = set(unique_occur_names) - set(unique_scanned_names)\n",
    "unknown_names = pd.Series(list(unknown_names))\n",
    "\n",
    "known_names = set(unique_occur_names).intersection(set(unique_scanned_names))\n",
    "known_names = pd.Series(list(known_names))\n",
    "\n",
    "unknown_names.sort_values().to_frame()"
   ]
  },
  {
   "cell_type": "code",
   "execution_count": null,
   "metadata": {},
   "outputs": [],
   "source": [
    "n_unknown_persons = person_infos['std_first_name'].isin(unknown_names).sum()\n",
    "n_known_persons = person_infos['std_first_name'].isin(known_names).sum()\n",
    "assert n_unknown_persons + n_known_persons == person_infos.shape[0]"
   ]
  },
  {
   "cell_type": "code",
   "execution_count": null,
   "metadata": {},
   "outputs": [],
   "source": [
    "n_persons_found_or_not = {'persons_name_found': n_known_persons,\n",
    "                          'persons_name_not_found': n_unknown_persons,\n",
    "                          'persons_overall': person_infos.shape[0]}"
   ]
  },
  {
   "cell_type": "code",
   "execution_count": null,
   "metadata": {},
   "outputs": [],
   "source": [
    "n_persons_found_or_not"
   ]
  },
  {
   "cell_type": "markdown",
   "metadata": {},
   "source": [
    "### Found per team"
   ]
  },
  {
   "cell_type": "code",
   "execution_count": null,
   "metadata": {},
   "outputs": [],
   "source": [
    "name_country_occurs = name_scan_results_raw.loc[:, ['name', 'country', 'name_count']]\n",
    "xx_msk = name_country_occurs.groupby('name')['name_count'].idxmax()\n",
    "name_most_freq_countries = name_country_occurs.loc[xx_msk, :]\n",
    "name_most_freq_countries.head(4)"
   ]
  },
  {
   "cell_type": "code",
   "execution_count": null,
   "metadata": {},
   "outputs": [],
   "source": [
    "person_infos.head(3)"
   ]
  },
  {
   "cell_type": "code",
   "execution_count": null,
   "metadata": {},
   "outputs": [],
   "source": [
    "person_team_name_lookup = match_participants_ids.loc[:, ['team', 'team_id', 'person_id']]\n",
    "person_team_name_lookup = person_team_name_lookup.drop_duplicates()\n",
    "person_team_name_lookup = person_team_name_lookup.merge(person_infos.loc[:, ['person_id', 'std_first_name', 'player_name']], \n",
    "                                                        how='left', on='person_id')\n",
    "person_team_name_lookup = person_team_name_lookup.merge(name_most_freq_countries, left_on='std_first_name', right_on='name', how='left')\n",
    "person_team_name_lookup.head(4)"
   ]
  },
  {
   "cell_type": "code",
   "execution_count": null,
   "metadata": {},
   "outputs": [],
   "source": [
    "xx_msk = person_team_name_lookup['name'].isna()\n",
    "not_found_names = person_team_name_lookup.loc[xx_msk, :]\n",
    "\n",
    "not_found_names = not_found_names.groupby(['team_id', 'team'])['person_id'].count().to_frame()\n",
    "not_found_names.columns = ['n_names_not_found']"
   ]
  },
  {
   "cell_type": "code",
   "execution_count": null,
   "metadata": {},
   "outputs": [],
   "source": [
    "persons_per_team = person_team_name_lookup.groupby(['team_id', 'team'])['person_id'].count().to_frame()\n",
    "persons_per_team.columns = ['n_persons']"
   ]
  },
  {
   "cell_type": "code",
   "execution_count": null,
   "metadata": {},
   "outputs": [],
   "source": [
    "found_per_team = persons_per_team.reset_index().merge(not_found_names.reset_index(), how='left').fillna(0)\n",
    "found_per_team['ratio_not_found'] = found_per_team['n_names_not_found'] / found_per_team['n_persons']\n",
    "found_per_team.sort_values('ratio_not_found').tail(10).drop(columns=['team_id'])"
   ]
  },
  {
   "cell_type": "code",
   "execution_count": null,
   "metadata": {},
   "outputs": [],
   "source": [
    "found_per_team.sort_values('n_persons').tail(10).drop(columns=['team_id'])"
   ]
  },
  {
   "cell_type": "code",
   "execution_count": null,
   "metadata": {},
   "outputs": [],
   "source": [
    "# display found / not found, country filled with most frequent name occurrence country\n",
    "person_team_name_lookup.query('team == \"FC Espanol\"').drop_duplicates().drop(columns=['team_id', 'person_id'])"
   ]
  },
  {
   "cell_type": "markdown",
   "metadata": {},
   "source": [
    "## Name distribution"
   ]
  },
  {
   "cell_type": "code",
   "execution_count": null,
   "metadata": {},
   "outputs": [],
   "source": [
    "name_occur = person_infos.groupby(['std_first_name'])['person_id'].nunique().to_frame()\n",
    "name_occur.columns = ['n_count']\n",
    "name_occur = name_occur.sort_values('n_count', ascending=False)\n",
    "name_occur.head(5)"
   ]
  },
  {
   "cell_type": "code",
   "execution_count": null,
   "metadata": {},
   "outputs": [],
   "source": [
    "name_occur.head(50).plot(kind='bar')\n",
    "plt.title('Number of occurrences per first name')\n",
    "plt.show()"
   ]
  },
  {
   "cell_type": "markdown",
   "metadata": {},
   "source": [
    "### Same names on forebears"
   ]
  },
  {
   "cell_type": "code",
   "execution_count": null,
   "metadata": {},
   "outputs": [],
   "source": [
    "xx_msk = name_scan_results_raw['name'].isin(person_infos['std_first_name'])\n",
    "name_scan_results_occurring = name_scan_results_raw.loc[xx_msk, :]"
   ]
  },
  {
   "cell_type": "code",
   "execution_count": null,
   "metadata": {},
   "outputs": [],
   "source": [
    "global_count = name_scan_results_occurring.groupby(['name'])['name_count'].sum().to_frame()\n",
    "global_count.columns = ['global_count']\n",
    "global_count.sort_values('global_count', ascending=False).head(40).plot(kind='bar')\n",
    "plt.title('Global name count for names occurring in BFV data')\n",
    "plt.show()"
   ]
  },
  {
   "cell_type": "code",
   "execution_count": null,
   "metadata": {},
   "outputs": [],
   "source": [
    "germany_count = name_scan_results_occurring.query('country == \"Germany\"').groupby(['name'])['name_count'].sum().to_frame()\n",
    "germany_count.columns = ['germany_count']\n",
    "germany_count.sort_values('germany_count', ascending=False).head(40).plot(kind='bar')\n",
    "plt.title('Germany name count for names occurring in BFV data')\n",
    "plt.show()"
   ]
  },
  {
   "cell_type": "markdown",
   "metadata": {},
   "source": [
    "## German frequencies per name"
   ]
  },
  {
   "cell_type": "code",
   "execution_count": null,
   "metadata": {},
   "outputs": [],
   "source": [
    "german_freq = pd.concat([germany_count, global_count], axis=1).fillna(0)\n",
    "german_freq['german_freq'] = german_freq['germany_count'] / german_freq['global_count']\n",
    "german_freq = pd.concat([name_occur, german_freq], axis=1).dropna()\n",
    "german_freq = german_freq.sort_values('german_freq', ascending=False)\n",
    "german_freq.head(10)"
   ]
  },
  {
   "cell_type": "code",
   "execution_count": null,
   "metadata": {},
   "outputs": [],
   "source": [
    "name_scan_results_occurring.query('name == \"christoph-dietrich\"')"
   ]
  },
  {
   "cell_type": "code",
   "execution_count": null,
   "metadata": {},
   "outputs": [],
   "source": [
    "person_infos.query('std_first_name == \"christoph-dietrich\"')"
   ]
  },
  {
   "cell_type": "code",
   "execution_count": null,
   "metadata": {},
   "outputs": [],
   "source": [
    "german_freq.sort_values('n_count', ascending=False)['german_freq'].head(50).plot(kind='bar')\n",
    "plt.title('Ratio of Germany name occurrences of top 10 country occurrences')\n",
    "plt.show()"
   ]
  },
  {
   "cell_type": "markdown",
   "metadata": {},
   "source": [
    "## Classification"
   ]
  },
  {
   "cell_type": "markdown",
   "metadata": {},
   "source": [
    "### Create sample name sets"
   ]
  },
  {
   "cell_type": "code",
   "execution_count": null,
   "metadata": {},
   "outputs": [],
   "source": [
    "person_infos.sample(300, random_state=123).loc[:, ['person_id', 'player_name', 'std_first_name']].to_csv('sample_names_for_classification.csv', index=False)"
   ]
  },
  {
   "cell_type": "code",
   "execution_count": null,
   "metadata": {},
   "outputs": [],
   "source": [
    "person_infos.sample(300, random_state=764).loc[:, ['person_id', 'player_name', 'std_first_name']].to_csv('sample_names_for_classification_chris.csv', index=False)"
   ]
  },
  {
   "cell_type": "markdown",
   "metadata": {},
   "source": [
    "### Classifier"
   ]
  },
  {
   "cell_type": "code",
   "execution_count": null,
   "metadata": {},
   "outputs": [],
   "source": [
    "def german_freq_classifier(input_names, threshold):\n",
    "    \n",
    "    classifier_map = german_freq.loc[:, ['german_freq']].copy()\n",
    "    classifier_map['Nationality'] = 'Unknown'\n",
    "\n",
    "    xx_msk = classifier_map['german_freq'] > threshold\n",
    "    classifier_map.loc[xx_msk, 'Nationality'] = 'German'\n",
    "    classifier_map.loc[~xx_msk, 'Nationality'] = 'Migrated'\n",
    "\n",
    "    assert (classifier_map['Nationality'].unique() == ['German', 'Migrated']).all(), 'Classification here must be either German or Migrated'\n",
    "\n",
    "    classifier_map = classifier_map.reset_index().drop(columns=['german_freq'])\n",
    "    classifier_map.rename({'index': 'name'}, axis=1, inplace=True)\n",
    "    classifier_map = dict(zip(classifier_map['name'], classifier_map['Nationality']))\n",
    "    \n",
    "    output_names = input_names.map(classifier_map)\n",
    "    xx_msk = output_names.isna()\n",
    "    output_names.loc[xx_msk] = 'Unknown'\n",
    "    \n",
    "    return output_names"
   ]
  },
  {
   "cell_type": "code",
   "execution_count": null,
   "metadata": {},
   "outputs": [],
   "source": [
    "person_classification = person_infos.copy()\n",
    "\n",
    "person_classification['Nationality'] = german_freq_classifier(person_classification['std_first_name'], 0.03)\n",
    "person_classification['Nationality'].value_counts()"
   ]
  },
  {
   "cell_type": "code",
   "execution_count": null,
   "metadata": {},
   "outputs": [],
   "source": [
    "person_classification.head(3)"
   ]
  },
  {
   "cell_type": "markdown",
   "metadata": {},
   "source": [
    "### Supervised classification"
   ]
  },
  {
   "cell_type": "code",
   "execution_count": null,
   "metadata": {},
   "outputs": [],
   "source": [
    "supervised_classification = pd.read_csv('sample_names_classified_chris.csv')\n",
    "supervised_classification['Nationality_SV'] = 'Unknown'\n",
    "xx_msk = supervised_classification['german'] == 'y'\n",
    "supervised_classification.loc[xx_msk, 'Nationality_SV'] = 'German'\n",
    "supervised_classification.loc[~xx_msk, 'Nationality_SV'] = 'Migrated'"
   ]
  },
  {
   "cell_type": "code",
   "execution_count": null,
   "metadata": {},
   "outputs": [],
   "source": [
    "supervised_classification['Nationality_SV'].value_counts()"
   ]
  },
  {
   "cell_type": "code",
   "execution_count": null,
   "metadata": {},
   "outputs": [],
   "source": [
    "forecast_check = supervised_classification.loc[:, ['person_id', 'player_name', 'std_first_name', 'Nationality_SV']]\n",
    "forecast_check = forecast_check.merge(person_classification.loc[:, ['person_id', 'Nationality']], how='left')\n",
    "\n",
    "xx_wrong_class = forecast_check['Nationality_SV'] != forecast_check['Nationality']\n",
    "forecast_check.loc[xx_wrong_class, :]"
   ]
  },
  {
   "cell_type": "code",
   "execution_count": null,
   "metadata": {},
   "outputs": [],
   "source": [
    "convolut_matrix = forecast_check.groupby(['Nationality_SV', 'Nationality'])['person_id'].count().to_frame().reset_index()\n",
    "convolut_matrix.pivot(index='Nationality_SV', columns='Nationality', values='person_id').fillna(0)"
   ]
  },
  {
   "cell_type": "markdown",
   "metadata": {},
   "source": [
    "### Pick best classifier"
   ]
  },
  {
   "cell_type": "code",
   "execution_count": null,
   "metadata": {},
   "outputs": [],
   "source": [
    "best_classifier = person_classification.copy()"
   ]
  },
  {
   "cell_type": "code",
   "execution_count": null,
   "metadata": {},
   "outputs": [],
   "source": [
    "best_classifier.head(4)"
   ]
  },
  {
   "cell_type": "markdown",
   "metadata": {},
   "source": [
    "## Per team"
   ]
  },
  {
   "cell_type": "code",
   "execution_count": null,
   "metadata": {},
   "outputs": [],
   "source": [
    "team_members_nations = match_participants_ids.loc[:, ['team', 'team_id', 'player_name', 'person_id']].drop_duplicates()\n",
    "team_members_nations = team_members_nations.merge(best_classifier.loc[:, ['person_id', 'Nationality']], how='left')\n",
    "team_members_nations"
   ]
  },
  {
   "cell_type": "code",
   "execution_count": null,
   "metadata": {},
   "outputs": [],
   "source": [
    "team_nation_stats = team_members_nations.groupby(['team_id', 'team', 'Nationality'])['person_id'].count().to_frame()\n",
    "team_nation_stats = team_nation_stats.reset_index().pivot_table(index=['team_id', 'team'], columns='Nationality', values='person_id').fillna(0)\n",
    "team_nation_stats['Total'] = team_nation_stats.sum(axis=1)\n",
    "team_nation_stats['German_ratio'] = team_nation_stats['German'] / team_nation_stats['Total']\n",
    "\n",
    "\n",
    "team_nation_stats.reset_index('team_id').drop(columns=['team_id']).sort_values('German_ratio').head(20)"
   ]
  },
  {
   "cell_type": "code",
   "execution_count": null,
   "metadata": {},
   "outputs": [],
   "source": [
    "team_members_nations.query('team == \"Elektra Hellas\"')"
   ]
  },
  {
   "cell_type": "code",
   "execution_count": null,
   "metadata": {},
   "outputs": [],
   "source": [
    "team_nation_stats['German_ratio'].hist()\n",
    "plt.xlabel('Ratio of German players')\n",
    "plt.ylabel('Number of teams')\n",
    "plt.show()"
   ]
  },
  {
   "cell_type": "markdown",
   "metadata": {},
   "source": [
    "## Spatial variations"
   ]
  },
  {
   "cell_type": "code",
   "execution_count": null,
   "metadata": {},
   "outputs": [],
   "source": [
    "championship_team_affil = championship_match_affil.loc[:, ['championship_id', 'match_id']]\n",
    "championship_team_affil = championship_team_affil.merge(match_participants_ids.loc[:, ['match_id', 'team_id', 'team']], how='left')\n",
    "championship_team_affil = championship_team_affil.drop(columns=['match_id']).drop_duplicates().dropna()\n",
    "championship_team_affil.head(3)"
   ]
  },
  {
   "cell_type": "code",
   "execution_count": null,
   "metadata": {},
   "outputs": [],
   "source": [
    "championship_team_affil.groupby('championship_id')['team_id'].count().sort_values()"
   ]
  },
  {
   "cell_type": "code",
   "execution_count": null,
   "metadata": {},
   "outputs": [],
   "source": [
    "league_team_info = league_info.loc[:, ['Spielklasse', 'Liga', 'Gebiet', 'Info', 'league_id']].copy()\n",
    "league_team_info = league_team_info.merge(championship_team_affil, left_on='league_id', right_on='championship_id')\n",
    "league_team_info = league_team_info.merge(team_nation_stats.reset_index().loc[:, ['team_id', 'German_ratio']])\n",
    "league_team_info = league_team_info.drop(columns=['championship_id', 'league_id', 'team_id'])\n",
    "league_team_info"
   ]
  },
  {
   "cell_type": "code",
   "execution_count": null,
   "metadata": {},
   "outputs": [],
   "source": [
    "sns.boxplot(x='Liga', y='German_ratio', data=league_team_info)\n",
    "plt.title('German ratio per league class')\n",
    "plt.show()"
   ]
  },
  {
   "cell_type": "code",
   "execution_count": null,
   "metadata": {},
   "outputs": [],
   "source": [
    "g = sns.boxplot(x='Gebiet', y='German_ratio', data=league_team_info)\n",
    "g.set_xticklabels(g.get_xticklabels(), rotation=90)\n",
    "plt.title('German ratio per Gebiet')\n",
    "plt.show()"
   ]
  },
  {
   "cell_type": "code",
   "execution_count": null,
   "metadata": {},
   "outputs": [],
   "source": [
    "g = sns.boxplot(x='Info', y='German_ratio', data=league_team_info)\n",
    "g.set_xticklabels(g.get_xticklabels(), rotation=90)\n",
    "plt.title('German ratio per region type')\n",
    "plt.show()"
   ]
  },
  {
   "cell_type": "code",
   "execution_count": null,
   "metadata": {},
   "outputs": [],
   "source": [
    "munich_leagues = league_team_info.query('Gebiet == \"Gebiet München\"')\n",
    "\n",
    "g = sns.boxplot(x='Spielklasse', y='German_ratio', data=munich_leagues)\n",
    "g.set_xticklabels(g.get_xticklabels(), rotation=90)\n",
    "plt.title('German ratio per Spielklasse')\n",
    "plt.show()"
   ]
  },
  {
   "cell_type": "code",
   "execution_count": null,
   "metadata": {},
   "outputs": [],
   "source": [
    "league_team_info.query('Spielklasse == \"132 B-KLASSE 2\"').loc[:, ['Spielklasse', 'team', 'German_ratio']].sort_values('German_ratio')"
   ]
  },
  {
   "cell_type": "markdown",
   "metadata": {},
   "source": [
    "## Migration vs fairness"
   ]
  },
  {
   "cell_type": "code",
   "execution_count": null,
   "metadata": {},
   "outputs": [],
   "source": [
    "club_nations['german_ratio'].plot(kind='hist')\n",
    "plt.xlabel('Ratio of german players per club')\n",
    "plt.show()"
   ]
  },
  {
   "cell_type": "code",
   "execution_count": null,
   "metadata": {},
   "outputs": [],
   "source": [
    "all_players.merge(mapped_players).loc[:, ['team', 'match_id', 'person_id', 'country']].groupby(['team']).nunique().sort_values('person_id')"
   ]
  },
  {
   "cell_type": "code",
   "execution_count": null,
   "metadata": {},
   "outputs": [],
   "source": [
    "all_players.shape"
   ]
  },
  {
   "cell_type": "code",
   "execution_count": null,
   "metadata": {},
   "outputs": [],
   "source": [
    "query = \"\"\"\n",
    "SELECT *\n",
    "FROM fairness_tables\n",
    "\"\"\"\n",
    "\n",
    "fairness_raw = get_db_data(query, db_con)"
   ]
  },
  {
   "cell_type": "code",
   "execution_count": null,
   "metadata": {},
   "outputs": [],
   "source": [
    "fairness_vs_migration = fairness_raw.loc[:, ['team', 'quote']].merge(club_nations.reset_index().loc[:, ['team', 'german_ratio']])\n",
    "\n",
    "plt.scatter(fairness_vs_migration['german_ratio'], fairness_vs_migration['quote'])\n",
    "plt.xlabel('Ratio of German players')\n",
    "plt.ylabel('Fairness score (lower means more fair)')\n",
    "plt.show()"
   ]
  }
 ],
 "metadata": {
  "kernelspec": {
   "display_name": "Python 3",
   "language": "python",
   "name": "python3"
  },
  "language_info": {
   "codemirror_mode": {
    "name": "ipython",
    "version": 3
   },
   "file_extension": ".py",
   "mimetype": "text/x-python",
   "name": "python",
   "nbconvert_exporter": "python",
   "pygments_lexer": "ipython3",
   "version": "3.7.7"
  }
 },
 "nbformat": 4,
 "nbformat_minor": 4
}
