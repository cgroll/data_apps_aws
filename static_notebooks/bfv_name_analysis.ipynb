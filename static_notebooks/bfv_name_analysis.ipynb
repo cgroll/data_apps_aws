{
 "cells": [
  {
   "cell_type": "code",
   "execution_count": null,
   "metadata": {},
   "outputs": [],
   "source": [
    "import matplotlib.pyplot as plt\n",
    "import pandas as pd\n",
    "import seaborn as sns\n",
    "\n",
    "from data_apps_aws.sql import get_db_engine, get_db_data\n",
    "from data_apps_aws.utils import make_outside_legend\n",
    "from data_apps_aws.sql import *"
   ]
  },
  {
   "cell_type": "code",
   "execution_count": null,
   "metadata": {},
   "outputs": [],
   "source": [
    "plt.rcParams['figure.figsize'] = 14, 6\n",
    "sns.set()"
   ]
  },
  {
   "cell_type": "code",
   "execution_count": null,
   "metadata": {},
   "outputs": [],
   "source": [
    "db_con = get_db_engine('bfv_data')"
   ]
  },
  {
   "cell_type": "markdown",
   "metadata": {},
   "source": [
    "Noteworthy data aspects:\n",
    "- trainer: first / last name seems to be mixed up --> almost none are found, names are misclassified\n",
    "- SV Bernried II exists twice\n",
    "- "
   ]
  },
  {
   "cell_type": "markdown",
   "metadata": {},
   "source": [
    "## Names not found"
   ]
  },
  {
   "cell_type": "code",
   "execution_count": null,
   "metadata": {},
   "outputs": [],
   "source": [
    "query = \"\"\"\n",
    "SELECT *\n",
    "FROM match_participants\n",
    "\"\"\"\n",
    "\n",
    "match_participants_raw = get_db_data(query, db_con)"
   ]
  },
  {
   "cell_type": "code",
   "execution_count": null,
   "metadata": {},
   "outputs": [],
   "source": [
    "match_participants_raw.head(4)"
   ]
  },
  {
   "cell_type": "code",
   "execution_count": null,
   "metadata": {},
   "outputs": [],
   "source": [
    "query = \"\"\"\n",
    "SELECT *\n",
    "FROM page_scan_logging_forebears\n",
    "\"\"\"\n",
    "\n",
    "name_scans = get_db_data(query, db_con)\n",
    "name_scans.head(8)"
   ]
  },
  {
   "cell_type": "code",
   "execution_count": null,
   "metadata": {},
   "outputs": [],
   "source": [
    "player_scan_results = match_participants_raw.loc[:, ['team', 'player_name', 'first_name', 'type', 'person_id']].copy()\n",
    "player_scan_results.rename({'first_name': 'name'}, axis=1, inplace=True)\n",
    "player_scan_results = player_scan_results.merge(name_scans.loc[:, ['name', 'success']], how='left')\n",
    "player_scan_results.head(4)"
   ]
  },
  {
   "cell_type": "code",
   "execution_count": null,
   "metadata": {},
   "outputs": [],
   "source": [
    "# throw out trainers\n",
    "xx_msk = player_scan_results['type'] == 'trainer'\n",
    "player_scan_results_no_trainer = player_scan_results.loc[~xx_msk, :]\n",
    "\n",
    "team_scan_results = player_scan_results_no_trainer.drop(columns='type').groupby(['team', 'person_id'])['success'].sum().copy()\n",
    "team_scan_results = team_scan_results.to_frame()\n",
    "xx_msk = team_scan_results['success'] > 1\n",
    "team_scan_results.loc[xx_msk, 'success'] = 1\n",
    "\n",
    "team_scan_results = team_scan_results.reset_index()\n",
    "team_scan_results = team_scan_results.groupby(['team', 'success']).count()\n",
    "team_scan_results = team_scan_results.reset_index().pivot(index='team', columns='success', values='person_id').fillna(0)\n",
    "team_scan_results['total'] = team_scan_results.sum(axis=1)\n",
    "team_scan_results['name_info_exists'] = team_scan_results[1.0] / team_scan_results['total']\n",
    "team_scan_results.sort_values('name_info_exists').head(10)"
   ]
  },
  {
   "cell_type": "code",
   "execution_count": null,
   "metadata": {},
   "outputs": [],
   "source": [
    "player_scan_results_no_trainer.query('team == \"FC Espanol\"').drop_duplicates()"
   ]
  },
  {
   "cell_type": "code",
   "execution_count": null,
   "metadata": {},
   "outputs": [],
   "source": [
    "player_scan_results.groupby(['team'])['person_id'].nunique().sort_values().to_frame().tail(10)"
   ]
  },
  {
   "cell_type": "code",
   "execution_count": null,
   "metadata": {},
   "outputs": [],
   "source": [
    "name_scans['success'].value_counts()"
   ]
  },
  {
   "cell_type": "code",
   "execution_count": null,
   "metadata": {},
   "outputs": [],
   "source": [
    "player_scan_results_no_trainer.loc[:, ['name', 'success']].drop_duplicates()['success'].value_counts()"
   ]
  },
  {
   "cell_type": "code",
   "execution_count": null,
   "metadata": {},
   "outputs": [],
   "source": [
    "player_scan_results_no_trainer[player_scan_results_no_trainer['success'] == 0].loc[:, ['name', 'success']].drop_duplicates().head(20)"
   ]
  },
  {
   "cell_type": "markdown",
   "metadata": {},
   "source": [
    "## DEV"
   ]
  },
  {
   "cell_type": "code",
   "execution_count": null,
   "metadata": {},
   "outputs": [],
   "source": []
  },
  {
   "cell_type": "code",
   "execution_count": null,
   "metadata": {},
   "outputs": [],
   "source": [
    "query = \"\"\"\n",
    "SELECT *\n",
    "FROM match_participants\n",
    "\"\"\"\n",
    "\n",
    "all_players = get_db_data(query, db_con)"
   ]
  },
  {
   "cell_type": "code",
   "execution_count": null,
   "metadata": {},
   "outputs": [],
   "source": [
    "unique_players = all_players.loc[:, ['person_id', 'first_name']].drop_duplicates()"
   ]
  },
  {
   "cell_type": "markdown",
   "metadata": {},
   "source": [
    "## Name distribution"
   ]
  },
  {
   "cell_type": "code",
   "execution_count": null,
   "metadata": {},
   "outputs": [],
   "source": [
    "bfv_most_freq_players = unique_players['first_name'].value_counts().to_frame().reset_index()\n",
    "bfv_most_freq_players.columns = ['first_name', 'sample_count']\n",
    "bfv_most_freq_players['name'] = bfv_most_freq_players['first_name'].map(lambda x: x.lower())\n",
    "bfv_most_freq_players.loc[:, ['name', 'sample_count']].set_index('name').head(40).plot(kind='bar')\n",
    "plt.show()"
   ]
  },
  {
   "cell_type": "markdown",
   "metadata": {},
   "source": [
    "## Name origin"
   ]
  },
  {
   "cell_type": "code",
   "execution_count": null,
   "metadata": {},
   "outputs": [],
   "source": [
    "query = \"\"\"\n",
    "SELECT *\n",
    "FROM forebears_name_lookup\n",
    "\"\"\"\n",
    "\n",
    "name_origin_data_raw = get_db_data(query, db_con)"
   ]
  },
  {
   "cell_type": "code",
   "execution_count": null,
   "metadata": {},
   "outputs": [],
   "source": [
    "name_origin_data_raw"
   ]
  },
  {
   "cell_type": "code",
   "execution_count": null,
   "metadata": {},
   "outputs": [],
   "source": [
    "name_origin_data_raw.groupby('name')['name_count'].sum().sort_values(ascending=False).head(30).to_frame().plot(kind='bar')\n",
    "plt.title('Global name occurrences')\n",
    "plt.show()"
   ]
  },
  {
   "cell_type": "code",
   "execution_count": null,
   "metadata": {},
   "outputs": [],
   "source": [
    "most_freq_sample_occurs = name_origin_data_raw.query('country == \"Germany\"').loc[:, ['name', 'name_count']].sort_values('name_count', ascending=False).set_index('name')\n",
    "most_freq_sample_occurs.head(20).plot(kind='bar')\n",
    "plt.title('Most frequent occurrences in Germany')\n",
    "plt.show()"
   ]
  },
  {
   "cell_type": "code",
   "execution_count": null,
   "metadata": {},
   "outputs": [],
   "source": [
    "# compute German frequency per name"
   ]
  },
  {
   "cell_type": "code",
   "execution_count": null,
   "metadata": {},
   "outputs": [],
   "source": [
    "german_occurs = name_origin_data_raw.query('country == \"Germany\"').loc[:, ['name', 'name_count']]\n",
    "german_occurs = german_occurs.rename({'name_count': 'count_germany'}, axis=1)\n",
    "\n",
    "global_occurs = name_origin_data_raw.loc[:, ['name', 'name_count']].groupby('name').sum()\n",
    "global_occurs = global_occurs.reset_index()\n",
    "global_occurs = global_occurs.rename({'name_count': 'count_global'}, axis=1)\n",
    "\n",
    "german_occur_freq = global_occurs.merge(german_occurs, how='left').fillna(0)\n",
    "german_occur_freq['german_freq'] = german_occur_freq['count_germany'] / german_occur_freq['count_global']\n",
    "german_occur_freq = german_occur_freq.sort_values('german_freq', ascending=False)\n",
    "german_occur_freq.head(30)"
   ]
  },
  {
   "cell_type": "code",
   "execution_count": null,
   "metadata": {},
   "outputs": [],
   "source": [
    "german_occur_freq.set_index('name').loc[most_freq_sample_occurs.index, :].head(30)"
   ]
  },
  {
   "cell_type": "code",
   "execution_count": null,
   "metadata": {},
   "outputs": [],
   "source": [
    "# pick most frequent country per name\n",
    "max_idx = name_origin_data_raw.groupby('name')['name_count'].idxmax()\n",
    "most_freq_occur_countries = name_origin_data_raw.loc[max_idx, ['name', 'country', 'name_count']]\n",
    "most_freq_occur_countries.sort_values('name')\n",
    "most_freq_occur_countries = most_freq_occur_countries.reset_index(drop=True)"
   ]
  },
  {
   "cell_type": "code",
   "execution_count": null,
   "metadata": {},
   "outputs": [],
   "source": [
    "assert most_freq_occur_countries.shape[0] == len(name_origin_data_raw['name'].unique())"
   ]
  },
  {
   "cell_type": "code",
   "execution_count": null,
   "metadata": {},
   "outputs": [],
   "source": [
    "german_occur_freq"
   ]
  },
  {
   "cell_type": "code",
   "execution_count": null,
   "metadata": {},
   "outputs": [],
   "source": [
    "name_country_lookup"
   ]
  },
  {
   "cell_type": "code",
   "execution_count": null,
   "metadata": {},
   "outputs": [],
   "source": [
    "name_country_lookup = most_freq_occur_countries.merge(german_occur_freq).set_index('name')\n",
    "name_country_lookup = name_country_lookup.reindex(bfv_most_freq_players['name'])\n",
    "name_country_lookup.head(40)"
   ]
  },
  {
   "cell_type": "code",
   "execution_count": null,
   "metadata": {},
   "outputs": [],
   "source": [
    "name_country_lookup.head(80).loc[:, 'german_freq'].plot(kind='bar')\n",
    "plt.show()"
   ]
  },
  {
   "cell_type": "code",
   "execution_count": null,
   "metadata": {},
   "outputs": [],
   "source": [
    "names_above_freq_threshold = name_country_lookup.dropna()\n",
    "xx_msk = names_above_freq_threshold['german_freq'] > 0.1\n",
    "names_above_freq_threshold.loc[xx_msk, :]"
   ]
  },
  {
   "cell_type": "code",
   "execution_count": null,
   "metadata": {},
   "outputs": [],
   "source": [
    "classification_threshold = 0.1\n",
    "\n",
    "country_classification = name_country_lookup.reset_index().loc[:, ['name', 'german_freq']].copy()\n",
    "country_classification['country'] = 'unknown'\n",
    "\n",
    "xx_msk = country_classification.loc[:, 'german_freq'] > classification_threshold\n",
    "country_classification.loc[xx_msk, 'country'] = 'german'\n",
    "\n",
    "xx_msk = country_classification.loc[:, 'german_freq'] <= classification_threshold\n",
    "country_classification.loc[xx_msk, 'country'] = 'foreign'\n",
    "\n",
    "country_classification.drop(columns=['german_freq'], inplace=True)"
   ]
  },
  {
   "cell_type": "code",
   "execution_count": null,
   "metadata": {},
   "outputs": [],
   "source": [
    "mapped_players = unique_players.copy()\n",
    "mapped_players['name'] = mapped_players['first_name'].map(lambda x: x.lower())\n",
    "mapped_players = mapped_players.merge(country_classification, how='left')"
   ]
  },
  {
   "cell_type": "code",
   "execution_count": null,
   "metadata": {},
   "outputs": [],
   "source": [
    "mapped_players['country'].value_countsnts()"
   ]
  },
  {
   "cell_type": "markdown",
   "metadata": {},
   "source": [
    "## Per team"
   ]
  },
  {
   "cell_type": "code",
   "execution_count": null,
   "metadata": {},
   "outputs": [],
   "source": [
    "mapped_players.head(3)"
   ]
  },
  {
   "cell_type": "code",
   "execution_count": null,
   "metadata": {},
   "outputs": [],
   "source": [
    "mapped_players.shape"
   ]
  },
  {
   "cell_type": "code",
   "execution_count": null,
   "metadata": {},
   "outputs": [],
   "source": [
    "all_players.head(2)"
   ]
  },
  {
   "cell_type": "code",
   "execution_count": null,
   "metadata": {},
   "outputs": [],
   "source": [
    "all_players.merge(mapped_players)"
   ]
  },
  {
   "cell_type": "code",
   "execution_count": null,
   "metadata": {},
   "outputs": [],
   "source": [
    "club_players = all_players.merge(mapped_players)"
   ]
  },
  {
   "cell_type": "code",
   "execution_count": null,
   "metadata": {},
   "outputs": [],
   "source": [
    "club_players.loc[:, ['team', 'match_id', 'person_id']].groupby(['team']).nunique().sort_values('person_id')"
   ]
  },
  {
   "cell_type": "code",
   "execution_count": null,
   "metadata": {},
   "outputs": [],
   "source": [
    "club_nations = club_players.loc[:, ['team', 'country', 'person_id']].groupby(['team', 'country'])['person_id'].nunique().to_frame().reset_index()\n",
    "club_nations = club_nations.pivot(index='team', columns='country', values='person_id').fillna(0)\n",
    "club_nations['total'] = club_nations.sum(axis=1)\n",
    "club_nations['german_ratio'] = club_nations['german'] / club_nations['total']\n",
    "club_nations = club_nations.sort_values('german_ratio')\n",
    "club_nations.head(20)"
   ]
  },
  {
   "cell_type": "code",
   "execution_count": null,
   "metadata": {},
   "outputs": [],
   "source": [
    "club_nations.tail(20)"
   ]
  },
  {
   "cell_type": "code",
   "execution_count": null,
   "metadata": {},
   "outputs": [],
   "source": [
    "club_nations.drop(columns='german_ratio').sum()"
   ]
  },
  {
   "cell_type": "code",
   "execution_count": null,
   "metadata": {},
   "outputs": [],
   "source": [
    "club_nations['german_ratio'].plot(kind='hist')\n",
    "plt.show()"
   ]
  },
  {
   "cell_type": "code",
   "execution_count": null,
   "metadata": {},
   "outputs": [],
   "source": [
    "all_players.merge(mapped_players).loc[:, ['team', 'match_id', 'person_id', 'country']].groupby(['team']).nunique().sort_values('person_id')"
   ]
  },
  {
   "cell_type": "code",
   "execution_count": null,
   "metadata": {},
   "outputs": [],
   "source": [
    "all_players.shape"
   ]
  },
  {
   "cell_type": "code",
   "execution_count": null,
   "metadata": {},
   "outputs": [],
   "source": [
    "query = \"\"\"\n",
    "SELECT *\n",
    "FROM fairness_tables\n",
    "\"\"\"\n",
    "\n",
    "fairness_raw = get_db_data(query, db_con)"
   ]
  },
  {
   "cell_type": "code",
   "execution_count": null,
   "metadata": {},
   "outputs": [],
   "source": [
    "fairness_raw"
   ]
  },
  {
   "cell_type": "markdown",
   "metadata": {},
   "source": [
    "## Dev"
   ]
  },
  {
   "cell_type": "code",
   "execution_count": null,
   "metadata": {},
   "outputs": [],
   "source": []
  },
  {
   "cell_type": "code",
   "execution_count": null,
   "metadata": {},
   "outputs": [],
   "source": [
    "name_country_lookup = unique_players.copy()\n",
    "name_country_lookup['name'] = name_country_lookup['first_name'].map(lambda x: x.lower())\n",
    "name_country_lookup = name_country_lookup.merge(most_freq_occur_countries)"
   ]
  },
  {
   "cell_type": "code",
   "execution_count": null,
   "metadata": {},
   "outputs": [],
   "source": [
    "name_country_lookup.groupby(['name', 'country'])['person_id'].count().sort_values(ascending=False).head(40)"
   ]
  },
  {
   "cell_type": "code",
   "execution_count": null,
   "metadata": {},
   "outputs": [],
   "source": [
    "germany_prob_lookup = unique_players.copy()"
   ]
  },
  {
   "cell_type": "code",
   "execution_count": null,
   "metadata": {},
   "outputs": [],
   "source": [
    "name_country_lookup.query('country == \"Germany\"')."
   ]
  },
  {
   "cell_type": "code",
   "execution_count": null,
   "metadata": {},
   "outputs": [],
   "source": [
    "germany_prob_lookup"
   ]
  }
 ],
 "metadata": {
  "kernelspec": {
   "display_name": "Python 3",
   "language": "python",
   "name": "python3"
  },
  "language_info": {
   "codemirror_mode": {
    "name": "ipython",
    "version": 3
   },
   "file_extension": ".py",
   "mimetype": "text/x-python",
   "name": "python",
   "nbconvert_exporter": "python",
   "pygments_lexer": "ipython3",
   "version": "3.7.7"
  }
 },
 "nbformat": 4,
 "nbformat_minor": 4
}
