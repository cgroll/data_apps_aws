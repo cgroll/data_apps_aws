{
 "cells": [
  {
   "cell_type": "code",
   "execution_count": null,
   "metadata": {},
   "outputs": [],
   "source": [
    "import matplotlib.pyplot as plt\n",
    "import pandas as pd\n",
    "import seaborn as sns\n",
    "\n",
    "from data_apps_aws.sql import get_db_engine, get_db_data\n",
    "from data_apps_aws.utils import make_outside_legend\n",
    "from data_apps_aws.sql import *\n",
    "\n",
    "from itables import show\n",
    "import itables.options as opt\n",
    "opt.maxBytes = 0\n"
   ]
  },
  {
   "cell_type": "code",
   "execution_count": null,
   "metadata": {},
   "outputs": [],
   "source": [
    "plt.rcParams['figure.figsize'] = 14, 6\n",
    "sns.set()"
   ]
  },
  {
   "cell_type": "markdown",
   "metadata": {},
   "source": [
    "### Get player list"
   ]
  },
  {
   "cell_type": "code",
   "execution_count": null,
   "metadata": {},
   "outputs": [],
   "source": [
    "db_con = get_db_engine('bfv_data')"
   ]
  },
  {
   "cell_type": "code",
   "execution_count": null,
   "metadata": {},
   "outputs": [],
   "source": [
    "query = \"\"\"\n",
    "SELECT distinct(player_name)\n",
    "FROM match_participants\n",
    "\"\"\""
   ]
  },
  {
   "cell_type": "code",
   "execution_count": null,
   "metadata": {},
   "outputs": [],
   "source": [
    "unique_players = get_db_data(query, db_con)\n",
    "unique_players = unique_players['player_name'].values"
   ]
  },
  {
   "cell_type": "code",
   "execution_count": null,
   "metadata": {},
   "outputs": [],
   "source": [
    "len(unique_players)"
   ]
  },
  {
   "cell_type": "markdown",
   "metadata": {},
   "source": [
    "## Get nationality information"
   ]
  },
  {
   "cell_type": "code",
   "execution_count": null,
   "metadata": {},
   "outputs": [],
   "source": [
    "from data_apps_aws.password_manager import get_api_token\n",
    "from data_apps_aws.sql import upload_df_to_table\n",
    "\n",
    "import requests\n",
    "import json\n",
    "import pandas as pd\n",
    "import numpy as np\n",
    "from urllib.parse import quote\n",
    "import time"
   ]
  },
  {
   "cell_type": "code",
   "execution_count": null,
   "metadata": {},
   "outputs": [],
   "source": [
    "api_token = get_api_token('name_prism')"
   ]
  },
  {
   "cell_type": "code",
   "execution_count": null,
   "metadata": {},
   "outputs": [],
   "source": [
    "def get_single_player_info(this_player_name, api_token):\n",
    "    \n",
    "    # ensure percent encoding\n",
    "    this_player_str = quote(this_player_name)\n",
    "    \n",
    "    # get url\n",
    "    query_url = f'https://name-prism.com/api_token/nat/json/{api_token}/{this_player_str}'\n",
    "    \n",
    "    # download request\n",
    "    response = requests.request(\"GET\", query_url)\n",
    "    response_dict = json.loads(response.text)\n",
    "    \n",
    "    # transform to DataFrame\n",
    "    nationality_probs = pd.DataFrame.from_dict(response_dict, orient='index').reset_index()\n",
    "    nationality_probs.columns = ['nationality', 'prob']\n",
    "    nationality_probs = nationality_probs.sort_values('prob', ascending=False)\n",
    "    \n",
    "    # assert valid probabilities\n",
    "    assert np.abs(nationality_probs['prob'].sum() - 1).squeeze() < 0.00001, 'Nationality probabilities need to sum up to 1'\n",
    "    \n",
    "    return nationality_probs"
   ]
  },
  {
   "cell_type": "code",
   "execution_count": null,
   "metadata": {},
   "outputs": [],
   "source": [
    "from tqdm import tqdm"
   ]
  },
  {
   "cell_type": "code",
   "execution_count": null,
   "metadata": {},
   "outputs": [],
   "source": [
    "counter = 1\n",
    "for ii in range(20000):\n",
    "    \n",
    "    if (counter % 1000) == 0:\n",
    "        print(counter)\n",
    "    \n",
    "    counter += 1"
   ]
  },
  {
   "cell_type": "code",
   "execution_count": null,
   "metadata": {},
   "outputs": [],
   "source": [
    "all_player_info_list = []\n",
    "all_failed_players = []\n",
    "\n",
    "unique_players_ss = unique_players\n",
    "counter = 1\n",
    "\n",
    "for this_player_name in tqdm(unique_players_ss):\n",
    "    \n",
    "    try:\n",
    "        nationality_probs = get_single_player_info(this_player_name, api_token)\n",
    "        \n",
    "        nationality_probs['player_name'] = this_player_name\n",
    "        all_player_info_list.append(nationality_probs)\n",
    "        \n",
    "    except:\n",
    "        \n",
    "        all_failed_players.append(this_player_name)\n",
    "        \n",
    "    # occassional backups\n",
    "    if (counter % 1_000) == 0:\n",
    "        all_player_info_df = pd.concat(all_player_info_list, axis=0).reset_index(drop=True)\n",
    "        all_player_info_df.to_csv(f'player_info_bkup_{counter}.csv', index=False)\n",
    "        \n",
    "    # comply with max API calls\n",
    "    time.sleep(0.5)\n",
    "    counter += 1\n"
   ]
  },
  {
   "cell_type": "code",
   "execution_count": null,
   "metadata": {},
   "outputs": [],
   "source": [
    "all_player_info_df = pd.concat(all_player_info_list, axis=0).reset_index(drop=True)"
   ]
  },
  {
   "cell_type": "code",
   "execution_count": null,
   "metadata": {},
   "outputs": [],
   "source": [
    "all_player_info_df.shape"
   ]
  },
  {
   "cell_type": "code",
   "execution_count": null,
   "metadata": {},
   "outputs": [],
   "source": [
    "all_player_info_df.head(3)"
   ]
  },
  {
   "cell_type": "code",
   "execution_count": null,
   "metadata": {},
   "outputs": [],
   "source": [
    "all_player_info_df.to_csv(f'name_prism_player_info.csv', index=False)"
   ]
  },
  {
   "cell_type": "code",
   "execution_count": null,
   "metadata": {},
   "outputs": [],
   "source": [
    "all_failed_players_df = pd.DataFrame(all_failed_players, columns=['player_name'])\n",
    "all_failed_players_df.shape"
   ]
  },
  {
   "cell_type": "code",
   "execution_count": null,
   "metadata": {},
   "outputs": [],
   "source": [
    "all_failed_players_df.to_csv('name_prism_failed_players.csv', index=False)"
   ]
  },
  {
   "cell_type": "markdown",
   "metadata": {},
   "source": [
    "## Save data to database"
   ]
  },
  {
   "cell_type": "code",
   "execution_count": null,
   "metadata": {},
   "outputs": [],
   "source": [
    "all_player_info_df = pd.read_csv(f'name_prism_player_info.csv')\n",
    "all_failed_players_df = pd.read_csv('name_prism_failed_players.csv')"
   ]
  },
  {
   "cell_type": "code",
   "execution_count": null,
   "metadata": {},
   "outputs": [],
   "source": [
    "upload_df_to_table(all_player_info_df, 'nameprism_player_info', db_con)"
   ]
  },
  {
   "cell_type": "code",
   "execution_count": null,
   "metadata": {},
   "outputs": [],
   "source": [
    "upload_df_to_table(all_failed_players_df, 'nameprism_failed_players', db_con)"
   ]
  }
 ],
 "metadata": {
  "kernelspec": {
   "display_name": "Python 3",
   "language": "python",
   "name": "python3"
  },
  "language_info": {
   "codemirror_mode": {
    "name": "ipython",
    "version": 3
   },
   "file_extension": ".py",
   "mimetype": "text/x-python",
   "name": "python",
   "nbconvert_exporter": "python",
   "pygments_lexer": "ipython3",
   "version": "3.7.7"
  }
 },
 "nbformat": 4,
 "nbformat_minor": 4
}
