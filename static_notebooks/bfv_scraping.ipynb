{
 "cells": [
  {
   "cell_type": "code",
   "execution_count": null,
   "metadata": {},
   "outputs": [],
   "source": [
    "from bs4 import BeautifulSoup\n",
    "import requests\n",
    "import urllib.request\n",
    "from selenium import webdriver\n",
    "from selenium.webdriver.common.keys import Keys\n",
    "from selenium.webdriver.support.ui import WebDriverWait\n",
    "import pandas as pd\n",
    "import re\n",
    "import os"
   ]
  },
  {
   "cell_type": "markdown",
   "metadata": {},
   "source": [
    "Install chrome driver:\n",
    "\n",
    "```\n",
    "wget https://chromedriver.storage.googleapis.com/2.41/chromedriver_linux64.zip\n",
    "unzip chromedriver_linux64.zip\n",
    "```"
   ]
  },
  {
   "cell_type": "code",
   "execution_count": null,
   "metadata": {},
   "outputs": [],
   "source": [
    "this_championship_id = '023T295LHO000024VS54898DVST4NHAM-G'"
   ]
  },
  {
   "cell_type": "markdown",
   "metadata": {},
   "source": [
    "## Access championship page and accept cookies"
   ]
  },
  {
   "cell_type": "code",
   "execution_count": null,
   "metadata": {},
   "outputs": [],
   "source": [
    "this_championship_overview_url = 'https://www.bfv.de/wettbewerbe/meisterschaften/' + this_championship_id + '#tabelle'"
   ]
  },
  {
   "cell_type": "code",
   "execution_count": null,
   "metadata": {},
   "outputs": [],
   "source": [
    "this_championship_overview_url"
   ]
  },
  {
   "cell_type": "code",
   "execution_count": null,
   "metadata": {},
   "outputs": [],
   "source": [
    "# chrome session\n",
    "driver = webdriver.Chrome(executable_path='./chromedriver')\n",
    "driver.get(this_championship_overview_url)\n",
    "driver.implicitly_wait(10)"
   ]
  },
  {
   "cell_type": "code",
   "execution_count": null,
   "metadata": {},
   "outputs": [],
   "source": [
    "# accept cookies\n",
    "python_button = driver.find_element_by_id('uc-btn-accept-banner')\n",
    "python_button.click()"
   ]
  },
  {
   "cell_type": "markdown",
   "metadata": {},
   "source": [
    "## Get final championship table"
   ]
  },
  {
   "cell_type": "code",
   "execution_count": null,
   "metadata": {},
   "outputs": [],
   "source": [
    "soup = BeautifulSoup(driver.page_source, 'html.parser')"
   ]
  },
  {
   "cell_type": "code",
   "execution_count": null,
   "metadata": {},
   "outputs": [],
   "source": [
    "all_teams_container_list = soup.find_all('tr', {'class': 'bfv-table-entry bfv-table-entry--data'})"
   ]
  },
  {
   "cell_type": "code",
   "execution_count": null,
   "metadata": {},
   "outputs": [],
   "source": [
    "all_team_results = None\n",
    "\n",
    "for this_team_container in all_teams_container_list:\n",
    "    \n",
    "    # extract team name and url\n",
    "    this_team_link = this_team_container.find('a').get('href')\n",
    "    this_team_name = this_team_container.find('a').get_text().replace('\\n', '').rstrip().lstrip()\n",
    "    \n",
    "    # extract values from table\n",
    "    comp_names = []\n",
    "    comp_values = []\n",
    "\n",
    "    for this_component in this_team_container.find_all('td'):\n",
    "\n",
    "        this_component_name = this_component.get('class')[1].split('--')[1]\n",
    "        this_component_value = this_component.get_text().replace('\\n', '').rstrip().lstrip()\n",
    "\n",
    "        comp_names.append(this_component_name)\n",
    "        comp_values.append(this_component_value)\n",
    "\n",
    "    comp_names.append('link')\n",
    "    comp_values.append(this_team_link)\n",
    "\n",
    "    this_team_table_values = pd.Series(comp_values, index=comp_names, name=this_team_name)\n",
    "    \n",
    "    if all_team_results is None:\n",
    "        all_team_results = this_team_table_values\n",
    "    else:\n",
    "        all_team_results = pd.concat([all_team_results, this_team_table_values], axis=1)"
   ]
  },
  {
   "cell_type": "code",
   "execution_count": null,
   "metadata": {},
   "outputs": [],
   "source": [
    "all_team_results.T"
   ]
  },
  {
   "cell_type": "markdown",
   "metadata": {},
   "source": [
    "## Get fairness table / list of teams"
   ]
  },
  {
   "cell_type": "code",
   "execution_count": null,
   "metadata": {},
   "outputs": [],
   "source": [
    "# find fairness navigation link\n",
    "all_navigation_links = driver.find_elements_by_class_name('tab-navigation__link')\n",
    "\n",
    "fairness_link = None\n",
    "\n",
    "for this_navigation_link in all_navigation_links:\n",
    "    \n",
    "    if this_navigation_link.get_attribute('title') == 'Fairness':\n",
    "        fairness_link = this_navigation_link\n",
    "        \n",
    "this_navigation_link.click()"
   ]
  },
  {
   "cell_type": "code",
   "execution_count": null,
   "metadata": {},
   "outputs": [],
   "source": [
    "soup = BeautifulSoup(driver.page_source, 'html.parser')"
   ]
  },
  {
   "cell_type": "code",
   "execution_count": null,
   "metadata": {},
   "outputs": [],
   "source": [
    "all_teams_container_list = soup.find_all('td', {'class': 'bfv-table-collapsed-entry__inner-table'})"
   ]
  },
  {
   "cell_type": "code",
   "execution_count": null,
   "metadata": {},
   "outputs": [],
   "source": [
    "list_of_metrics = ['matches', 'yellowcards', 'yellowredcards', 'redcards', 'timepenalties', \n",
    "                   'unsportsmanlike', 'gamefailures', 'gamecrashes', 'fscore', 'quote']"
   ]
  },
  {
   "cell_type": "code",
   "execution_count": null,
   "metadata": {},
   "outputs": [],
   "source": [
    "all_team_metrics = None\n",
    "\n",
    "for this_team_container in all_teams_container_list:\n",
    "    \n",
    "    # extract team name\n",
    "    this_team_name_raw = this_team_container.find('div', {'class': 'bfv-table-collapsed-entry__team-name'}).get_text()\n",
    "    this_team_name = this_team_name_raw.replace('\\n', '').rstrip().lstrip()\n",
    "    \n",
    "    # extract team metrics\n",
    "    this_team_metrics_list = this_team_container.find_all('div', {'class': 'bfv-table-collapsed-entry__data-value'})\n",
    "    metrics = [float(this_metrics.get_text().replace('\\n', '').rstrip().lstrip()) for this_metrics in this_team_metrics_list]\n",
    "\n",
    "    this_team_row = pd.Series(metrics, name=this_team_name, index=list_of_metrics)\n",
    "    \n",
    "    if all_team_metrics is None:\n",
    "        all_team_metrics = this_team_row\n",
    "    else:\n",
    "        all_team_metrics = pd.concat([all_team_metrics, this_team_row], axis=1)"
   ]
  },
  {
   "cell_type": "code",
   "execution_count": null,
   "metadata": {},
   "outputs": [],
   "source": [
    "all_team_metrics.T"
   ]
  },
  {
   "cell_type": "markdown",
   "metadata": {},
   "source": [
    "## Get match day matches"
   ]
  },
  {
   "cell_type": "code",
   "execution_count": null,
   "metadata": {},
   "outputs": [],
   "source": [
    "this_championship_id = '023T295LHO000024VS54898DVST4NHAM-G'\n",
    "\n",
    "this_match_day = '4'\n",
    "this_match_day_url = 'https://www.bfv.de/wettbewerbe/meisterschaften/' + this_championship_id + '#spieltag=' + str(this_match_day)"
   ]
  },
  {
   "cell_type": "code",
   "execution_count": null,
   "metadata": {},
   "outputs": [],
   "source": [
    "# chrome session\n",
    "driver = webdriver.Chrome(executable_path='./chromedriver')\n",
    "driver.get(this_match_day_url)\n",
    "driver.implicitly_wait(10)"
   ]
  },
  {
   "cell_type": "code",
   "execution_count": null,
   "metadata": {},
   "outputs": [],
   "source": [
    "# accept cookies\n",
    "python_button = driver.find_element_by_id('uc-btn-accept-banner')\n",
    "python_button.click()"
   ]
  },
  {
   "cell_type": "code",
   "execution_count": null,
   "metadata": {},
   "outputs": [],
   "source": [
    "soup = BeautifulSoup(driver.page_source, 'html.parser')"
   ]
  },
  {
   "cell_type": "code",
   "execution_count": null,
   "metadata": {},
   "outputs": [],
   "source": [
    "all_match_info_list = soup.body.find_all('div', {'class': 'bfv-matchdata-result__body'})\n",
    "this_match_info = all_match_info_list[0]"
   ]
  },
  {
   "cell_type": "code",
   "execution_count": null,
   "metadata": {},
   "outputs": [],
   "source": [
    "all_game_links = soup.body.find_all('a', {'class': 'bfv-spieltag-eintrag__match-link'})"
   ]
  },
  {
   "cell_type": "code",
   "execution_count": null,
   "metadata": {},
   "outputs": [],
   "source": [
    "[this_game_link.get('href') for this_game_link in all_game_links]"
   ]
  },
  {
   "cell_type": "code",
   "execution_count": null,
   "metadata": {},
   "outputs": [],
   "source": [
    "this_match_info"
   ]
  },
  {
   "cell_type": "markdown",
   "metadata": {},
   "source": [
    "## Single match"
   ]
  },
  {
   "cell_type": "code",
   "execution_count": null,
   "metadata": {},
   "outputs": [],
   "source": [
    "this_match_url = 'https://www.bfv.de/spiele/027IC4HE40000000VS5489B3VVQN7UE9'"
   ]
  },
  {
   "cell_type": "code",
   "execution_count": null,
   "metadata": {},
   "outputs": [],
   "source": [
    "# chrome session\n",
    "driver = webdriver.Chrome(executable_path='./chromedriver')\n",
    "driver.get(this_match_url)\n",
    "driver.implicitly_wait(10)"
   ]
  },
  {
   "cell_type": "code",
   "execution_count": null,
   "metadata": {},
   "outputs": [],
   "source": [
    "# accept cookies\n",
    "python_button = driver.find_element_by_id('uc-btn-accept-banner')\n",
    "python_button.click()"
   ]
  },
  {
   "cell_type": "code",
   "execution_count": null,
   "metadata": {},
   "outputs": [],
   "source": [
    "# find from class tab-navigation__link the one with title \"Aufstellung\" and click it\n",
    "all_tabs = driver.find_elements_by_class_name('tab-navigation__link')\n",
    "aufstellung_tab = all_tabs[2]\n",
    "aufstellung_tab.click()"
   ]
  },
  {
   "cell_type": "code",
   "execution_count": null,
   "metadata": {},
   "outputs": [],
   "source": [
    "# get all players"
   ]
  },
  {
   "cell_type": "code",
   "execution_count": null,
   "metadata": {},
   "outputs": [],
   "source": [
    "# get second team"
   ]
  },
  {
   "cell_type": "code",
   "execution_count": null,
   "metadata": {},
   "outputs": [],
   "source": [
    "soup = BeautifulSoup(driver.page_source, 'html.parser')"
   ]
  },
  {
   "cell_type": "code",
   "execution_count": null,
   "metadata": {},
   "outputs": [],
   "source": [
    "soup.find(\"a\", {'class': 'bfv-composition-entry__team-link'}).span.img.get('title')"
   ]
  },
  {
   "cell_type": "code",
   "execution_count": null,
   "metadata": {},
   "outputs": [],
   "source": [
    "driver.find_element_by_class_name('bfv-composition-entry')"
   ]
  },
  {
   "cell_type": "code",
   "execution_count": null,
   "metadata": {},
   "outputs": [],
   "source": [
    "teams_span_list = soup.find_all(\"span\", {'class': 'bfv-tab-switch__tab-text'})\n",
    "teams_span_list"
   ]
  },
  {
   "cell_type": "code",
   "execution_count": null,
   "metadata": {},
   "outputs": [],
   "source": [
    "team_names = [this_team_span.get_text() for this_team_span in teams_span_list]\n",
    "team_names"
   ]
  },
  {
   "cell_type": "code",
   "execution_count": null,
   "metadata": {},
   "outputs": [],
   "source": [
    "team_contents = soup.find_all('div', {'class': 'bfv-composition__team js-bfv-tab-switch__content'})"
   ]
  },
  {
   "cell_type": "code",
   "execution_count": null,
   "metadata": {},
   "outputs": [],
   "source": [
    "all_people = None\n",
    "\n",
    "for this_iter in [0, 1, 2, 3, 4, 5]:\n",
    "    \n",
    "    all_player_names = []\n",
    "    all_player_urls = []\n",
    "    \n",
    "    if this_iter in [0, 1]:\n",
    "        this_type = \"starting\"\n",
    "    elif this_iter in [2, 3]:\n",
    "        this_type = 'bench'\n",
    "    elif this_iter in [4, 5]:\n",
    "        this_type = 'trainer'\n",
    "    \n",
    "    this_team_contents = team_contents[this_iter]\n",
    "    \n",
    "    for this_team_entry in this_team_contents.find_all('a'):\n",
    "\n",
    "        team_info_raw = this_team_entry.find_all('span', {'class': 'bfv-composition-entry__team-name'})\n",
    "\n",
    "        if len(team_info_raw) > 0:\n",
    "            if this_iter == 0:\n",
    "                home_team_name = team_info_raw[0].get_text()\n",
    "                home_team_id = team_info_raw[0].get('id')\n",
    "            elif this_iter == 1:\n",
    "                away_team_name = team_info_raw[0].get_text()\n",
    "                away_team_id = team_info_raw[0].get('id')\n",
    "\n",
    "        else:\n",
    "            this_player_name = this_team_entry.get_text().replace('\\n', '').rstrip().lstrip()\n",
    "            this_player_url = this_team_entry.get('href')\n",
    "\n",
    "            all_player_names.append(this_player_name)\n",
    "            all_player_urls.append(this_player_url)\n",
    "\n",
    "    these_people = pd.concat([pd.Series(all_player_names, name='player_name'), pd.Series(all_player_urls, name='player_url')], axis=1)\n",
    "    these_people['type'] = this_type\n",
    "    \n",
    "    if this_iter in [0, 2, 4]:\n",
    "        these_people['team'] = home_team_name\n",
    "        these_people['team_id'] = home_team_id\n",
    "        \n",
    "    elif this_iter in [1, 3, 5]:\n",
    "        these_people['team'] = away_team_name\n",
    "        these_people['team_id'] = away_team_id\n",
    "    \n",
    "    if all_people is None:\n",
    "        all_people = these_people\n",
    "    else:\n",
    "        all_people = pd.concat([all_people, these_people], axis=0)\n"
   ]
  },
  {
   "cell_type": "code",
   "execution_count": null,
   "metadata": {},
   "outputs": [],
   "source": [
    "all_people"
   ]
  },
  {
   "cell_type": "code",
   "execution_count": null,
   "metadata": {},
   "outputs": [],
   "source": [
    "driver.quit()"
   ]
  },
  {
   "cell_type": "markdown",
   "metadata": {},
   "source": [
    "Requires selenium"
   ]
  },
  {
   "cell_type": "markdown",
   "metadata": {},
   "source": [
    "## Look-up names"
   ]
  },
  {
   "cell_type": "code",
   "execution_count": null,
   "metadata": {},
   "outputs": [],
   "source": [
    "'https://www.vorname.com/name,Predrag.html'"
   ]
  },
  {
   "cell_type": "markdown",
   "metadata": {},
   "source": [
    "## DEV"
   ]
  }
 ],
 "metadata": {
  "kernelspec": {
   "display_name": "Python 3",
   "language": "python",
   "name": "python3"
  },
  "language_info": {
   "codemirror_mode": {
    "name": "ipython",
    "version": 3
   },
   "file_extension": ".py",
   "mimetype": "text/x-python",
   "name": "python",
   "nbconvert_exporter": "python",
   "pygments_lexer": "ipython3",
   "version": "3.7.7"
  }
 },
 "nbformat": 4,
 "nbformat_minor": 4
}
