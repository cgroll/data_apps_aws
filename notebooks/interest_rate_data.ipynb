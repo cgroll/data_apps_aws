{
 "cells": [
  {
   "cell_type": "code",
   "execution_count": null,
   "metadata": {},
   "outputs": [],
   "source": [
    "import matplotlib.pyplot as plt\n",
    "import pandas as pd\n",
    "import seaborn as sns\n",
    "import quandl\n",
    "\n",
    "from data_apps_aws.src.sql import get_db_engine, get_db_data\n",
    "from data_apps_aws.src.passwords import get_api_token"
   ]
  },
  {
   "cell_type": "code",
   "execution_count": null,
   "metadata": {},
   "outputs": [],
   "source": [
    "plt.rcParams['figure.figsize'] = 14, 6\n",
    "sns.set()"
   ]
  },
  {
   "cell_type": "code",
   "execution_count": null,
   "metadata": {},
   "outputs": [],
   "source": [
    "quandl_api_token = get_api_token('quandl')"
   ]
  },
  {
   "cell_type": "code",
   "execution_count": null,
   "metadata": {},
   "outputs": [],
   "source": [
    "raw_data = quandl.get(\"FED/PARAMS\", authtoken=quandl_api_token)"
   ]
  },
  {
   "cell_type": "code",
   "execution_count": null,
   "metadata": {},
   "outputs": [],
   "source": [
    "raw_data"
   ]
  },
  {
   "cell_type": "code",
   "execution_count": null,
   "metadata": {},
   "outputs": [],
   "source": [
    "maturs = [1, 2, 3, 5, 7, 10, 20, 30]\n",
    "matur_labels = [str(this_matur) + ' YR' for this_matur in maturs]"
   ]
  },
  {
   "cell_type": "code",
   "execution_count": null,
   "metadata": {},
   "outputs": [],
   "source": [
    "raw_data = data_fetching_tools.get_multiple_joint_datasets(['BETA0', 'BETA1', 'BETA2', 'BETA3', 'TAU1', 'TAU2'], 'ecb')"
   ]
  },
  {
   "cell_type": "code",
   "execution_count": null,
   "metadata": {},
   "outputs": [],
   "source": [
    "from pandasdmx import Request"
   ]
  },
  {
   "cell_type": "code",
   "execution_count": null,
   "metadata": {},
   "outputs": [],
   "source": [
    "def get_ecb_long_term_yields(ts_key, resource_id ='IRS', params=None):\n",
    "    \"\"\"\n",
    "    Resource ID:\n",
    "    - IRS: Interest rate statistics\n",
    "    - \n",
    "    \"\"\"\n",
    "    ecb = Request('ECB')\n",
    "    \n",
    "    if params is None:\n",
    "        data_response = ecb.data(resource_id = resource_id,\n",
    "                                 key={'REF_AREA': ts_key,\n",
    "                                     'IR_TYPE': 'L'})\n",
    "    else:\n",
    "        data_response = ecb.data(resource_id = resource_id,\n",
    "                                 key={'REF_AREA': ts_key,\n",
    "                                     'IR_TYPE': 'L'},\n",
    "                                 params=params\n",
    "                                )\n",
    "        \n",
    "    raw_data = data_response.data\n",
    "    series_tuple = (s for s in raw_data.series)\n",
    "    data = data_response.write(series_tuple)\n",
    "    \n",
    "    return data"
   ]
  },
  {
   "cell_type": "code",
   "execution_count": null,
   "metadata": {},
   "outputs": [],
   "source": [
    "data_response = ecb.data(resource_id = 'IRS',\n",
    "                                 key={'REF_AREA': ['DE'],\n",
    "                                     'IR_TYPE': 'L'})"
   ]
  },
  {
   "cell_type": "code",
   "execution_count": null,
   "metadata": {},
   "outputs": [],
   "source": [
    "raw_data = data_response.data"
   ]
  },
  {
   "cell_type": "code",
   "execution_count": null,
   "metadata": {},
   "outputs": [],
   "source": [
    "raw_data"
   ]
  },
  {
   "cell_type": "code",
   "execution_count": null,
   "metadata": {},
   "outputs": [],
   "source": [
    "'G_N_C'"
   ]
  },
  {
   "cell_type": "code",
   "execution_count": null,
   "metadata": {},
   "outputs": [],
   "source": [
    "list(raw_data.series)[0].key"
   ]
  },
  {
   "cell_type": "code",
   "execution_count": null,
   "metadata": {},
   "outputs": [],
   "source": [
    "long_term_yields_no_euro = get_ecb_long_term_yields(list_of_areas_no_euro, params={'startPeriod': '2016'})"
   ]
  },
  {
   "cell_type": "code",
   "execution_count": null,
   "metadata": {},
   "outputs": [],
   "source": [
    "ecb = Request('ECB')\n",
    "exr_flow = ecb.dataflow('EXR')"
   ]
  },
  {
   "cell_type": "code",
   "execution_count": null,
   "metadata": {},
   "outputs": [],
   "source": [
    "ecb = Request('ECB')\n",
    "exr_flow = ecb.dataflow()"
   ]
  },
  {
   "cell_type": "markdown",
   "metadata": {},
   "source": [
    "## Get metadata"
   ]
  },
  {
   "cell_type": "code",
   "execution_count": null,
   "metadata": {},
   "outputs": [],
   "source": [
    "data_df = long_term_yields_no_euro.copy()"
   ]
  },
  {
   "cell_type": "code",
   "execution_count": null,
   "metadata": {},
   "outputs": [],
   "source": [
    "ecb = Request('ECB')"
   ]
  },
  {
   "cell_type": "code",
   "execution_count": null,
   "metadata": {},
   "outputs": [],
   "source": [
    "this_resource_id = 'IRS'\n",
    "\n",
    "def get_resource_name(this_resource_id):\n",
    "    \n",
    "    exr_flow = ecb.dataflow()\n",
    "    resource_types = exr_flow.write().dataflow\n",
    "    this_resource_name = exr_flow.write().dataflow.loc[this_resource_id, 'name']\n",
    "    \n",
    "    return this_resource_name"
   ]
  },
  {
   "cell_type": "code",
   "execution_count": null,
   "metadata": {},
   "outputs": [],
   "source": [
    "get_resource_name(this_resource_id)"
   ]
  },
  {
   "cell_type": "code",
   "execution_count": null,
   "metadata": {},
   "outputs": [],
   "source": [
    "def get_concept_list_from_data(data_df):\n",
    "    \n",
    "    return list(data_df.columns.names)"
   ]
  },
  {
   "cell_type": "code",
   "execution_count": null,
   "metadata": {},
   "outputs": [],
   "source": [
    "list_of_data_concepts = get_concept_list_from_data(data_df)\n",
    "list_of_data_concepts"
   ]
  },
  {
   "cell_type": "code",
   "execution_count": null,
   "metadata": {},
   "outputs": [],
   "source": [
    "def get_resource_metadata_decodes(this_resource_id):\n",
    "    \n",
    "    this_resource_decodes = ecb.dataflow(this_resource_id).write().codelist\n",
    "    \n",
    "    return this_resource_decodes"
   ]
  },
  {
   "cell_type": "code",
   "execution_count": null,
   "metadata": {},
   "outputs": [],
   "source": [
    "decodes_df = get_resource_metadata_decodes(this_resource_id)\n",
    "decodes_df.head(2)"
   ]
  },
  {
   "cell_type": "code",
   "execution_count": null,
   "metadata": {},
   "outputs": [],
   "source": [
    "decodes_df.shape"
   ]
  },
  {
   "cell_type": "code",
   "execution_count": null,
   "metadata": {},
   "outputs": [],
   "source": [
    "def get_concept_decodes(decodes_df, concepts):\n",
    "    \n",
    "    concepts_labels = decodes_df.loc[(concepts, concepts), ['name']]\n",
    "    concepts_labels.index = concepts_labels.index.get_level_values(0)\n",
    "    \n",
    "    return concepts_labels"
   ]
  },
  {
   "cell_type": "code",
   "execution_count": null,
   "metadata": {},
   "outputs": [],
   "source": [
    "concept_decode_mapping = get_concept_decodes(decodes_df, list_of_data_concepts)\n",
    "concept_decode_mapping"
   ]
  },
  {
   "cell_type": "code",
   "execution_count": null,
   "metadata": {},
   "outputs": [],
   "source": [
    "all_maps = None\n",
    "\n",
    "for this_concept in list_of_data_concepts:\n",
    "    \n",
    "    these_occurring_vals = data_df.columns.get_level_values(this_concept).unique().values\n",
    "    \n",
    "    # get occurring values\n",
    "    this_map = decodes_df.loc[this_concept, :].loc[these_occurring_vals, 'name'].to_frame().reset_index()\n",
    "    this_map.rename({'index': 'code'}, axis=1, inplace=True)\n",
    "    this_map['concept'] = this_concept\n",
    "    \n",
    "    if all_maps is None:\n",
    "        all_maps = this_map\n",
    "    else:\n",
    "        all_maps = pd.concat([all_maps, this_map], axis=0)\n",
    "\n",
    "\n",
    "df_merge = concept_decode_mapping.reset_index()\n",
    "df_merge.columns = ['concept', 'concept_name']\n",
    "\n",
    "all_maps.merge(df_merge).loc[:, ['concept', 'concept_name', 'code', 'name']]"
   ]
  },
  {
   "cell_type": "code",
   "execution_count": null,
   "metadata": {},
   "outputs": [],
   "source": [
    "def decode_concept_values(this_concept, these_values):\n",
    "    \n",
    "    if type(these_values) == 'str':\n",
    "        map_ss = all_maps.query('concept == @this_concept & code == @these_values')\n",
    "    else:\n",
    "        map_ss = all_maps.query('concept == @this_concept & code in @these_values')\n",
    "        \n",
    "    return map_ss.set_index('code').loc[these_values, 'name']"
   ]
  },
  {
   "cell_type": "code",
   "execution_count": null,
   "metadata": {},
   "outputs": [],
   "source": [
    "this_concept = 'REF_AREA'\n",
    "this_concept_values = data_df.columns.get_level_values(this_concept).values\n",
    "\n",
    "decode_concept_values('REF_AREA', this_concept_values)"
   ]
  },
  {
   "cell_type": "code",
   "execution_count": null,
   "metadata": {},
   "outputs": [],
   "source": [
    "this_concept = 'MATURITY_CAT'\n",
    "this_concept_values = data_df.columns.get_level_values(this_concept).values\n",
    "\n",
    "decode_concept_values(this_concept, this_concept_values)"
   ]
  },
  {
   "cell_type": "code",
   "execution_count": null,
   "metadata": {},
   "outputs": [],
   "source": [
    "data_df.head(3)"
   ]
  },
  {
   "cell_type": "markdown",
   "metadata": {},
   "source": [
    "## Download data and translate headers"
   ]
  },
  {
   "cell_type": "code",
   "execution_count": null,
   "metadata": {},
   "outputs": [],
   "source": [
    "long_term_yields_no_euro.head(3)"
   ]
  },
  {
   "cell_type": "code",
   "execution_count": null,
   "metadata": {},
   "outputs": [],
   "source": [
    "\n",
    "list_of_areas_no_euro = ['BG', 'CZ', 'DK', 'GB', 'HR', 'HU', 'PL', 'RO', 'SE']\n",
    "\n",
    "long_term_yields_no_euro = get_ecb_long_term_yields(list_of_areas_no_euro)\n",
    "long_term_yields_no_euro.columns = long_term_yields_no_euro.columns.levels[1].values"
   ]
  },
  {
   "cell_type": "code",
   "execution_count": null,
   "metadata": {},
   "outputs": [],
   "source": [
    "long_term_yields_no_euro.plot()"
   ]
  },
  {
   "cell_type": "code",
   "execution_count": null,
   "metadata": {},
   "outputs": [],
   "source": [
    "list_of_areas_w_euro = ['AT', 'BE', 'CY', 'DE', 'ES', 'FI', 'FR', 'GR', 'IE', 'IT', 'LT', 'LU', 'LV', 'MT', 'NL', 'PT', 'SI', 'SK']\n",
    "\n",
    "long_term_yields_w_euro = get_ecb_long_term_yields(list_of_areas_w_euro)\n",
    "long_term_yields_w_euro.columns = long_term_yields_w_euro.columns.levels[1].values"
   ]
  },
  {
   "cell_type": "code",
   "execution_count": null,
   "metadata": {},
   "outputs": [],
   "source": [
    "long_term_yields_no_euro"
   ]
  },
  {
   "cell_type": "code",
   "execution_count": null,
   "metadata": {},
   "outputs": [],
   "source": [
    "long_term_yields_w_euro.plot()"
   ]
  },
  {
   "cell_type": "code",
   "execution_count": null,
   "metadata": {},
   "outputs": [],
   "source": [
    "\n",
    "raw_ecb_triple_a_data = data_fetching_tools.get_multiple_joint_datasets(['BETA0', 'BETA1', 'BETA2', 'BETA3', 'TAU1', 'TAU2'], 'ecb')\n",
    "raw_ecb_triple_a_data.head(4)"
   ]
  },
  {
   "cell_type": "code",
   "execution_count": null,
   "metadata": {},
   "outputs": [],
   "source": [
    "\n",
    "raw_ecb_all_ratings_data = data_fetching_tools.get_multiple_joint_datasets(['BETA0', 'BETA1', 'BETA2', 'BETA3', 'TAU1', 'TAU2'], 'ecb', instrument='G_N_C')\n",
    "raw_ecb_all_ratings_data.head(4)"
   ]
  }
 ],
 "metadata": {
  "kernelspec": {
   "display_name": "Python 3",
   "language": "python",
   "name": "python3"
  },
  "language_info": {
   "codemirror_mode": {
    "name": "ipython",
    "version": 3
   },
   "file_extension": ".py",
   "mimetype": "text/x-python",
   "name": "python",
   "nbconvert_exporter": "python",
   "pygments_lexer": "ipython3",
   "version": "3.7.7"
  }
 },
 "nbformat": 4,
 "nbformat_minor": 4
}
